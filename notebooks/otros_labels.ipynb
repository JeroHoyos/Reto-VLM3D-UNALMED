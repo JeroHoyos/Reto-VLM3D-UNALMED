{
 "cells": [
  {
   "cell_type": "markdown",
   "id": "85e528c1",
   "metadata": {},
   "source": [
    "# **Cargar dataset y librerias**"
   ]
  },
  {
   "cell_type": "code",
   "execution_count": 14,
   "id": "06d9ac7a",
   "metadata": {},
   "outputs": [],
   "source": [
    "import pandas as pd\n",
    "import matplotlib.pyplot as plt\n",
    "import seaborn as sns\n",
    "import numpy as np\n",
    "import nibabel as nib\n",
    "from matplotlib.lines import Line2D\n",
    "from matplotlib.patches import Patch"
   ]
  },
  {
   "cell_type": "code",
   "execution_count": 26,
   "id": "deff38d1",
   "metadata": {},
   "outputs": [],
   "source": [
    "sns.set_theme(style=\"whitegrid\")"
   ]
  },
  {
   "cell_type": "code",
   "execution_count": 15,
   "id": "10c17ff9",
   "metadata": {},
   "outputs": [],
   "source": [
    "metadata_attributes_df = pd.read_excel('../datos/otros_labels/Metadata_Attributes.xlsx')\n",
    "train_label_summary_df = pd.read_excel('../datos/otros_labels/train_label_summary.xlsx')\n",
    "train_metadata_df = pd.read_csv('../datos/otros_labels/train_metadata.csv')\n",
    "train_reports_df = pd.read_csv('../datos/otros_labels/train_reports.csv')\n"
   ]
  },
  {
   "cell_type": "code",
   "execution_count": 16,
   "id": "9ee83bc0",
   "metadata": {},
   "outputs": [
    {
     "data": {
      "text/html": [
       "<div>\n",
       "<style scoped>\n",
       "    .dataframe tbody tr th:only-of-type {\n",
       "        vertical-align: middle;\n",
       "    }\n",
       "\n",
       "    .dataframe tbody tr th {\n",
       "        vertical-align: top;\n",
       "    }\n",
       "\n",
       "    .dataframe thead th {\n",
       "        text-align: right;\n",
       "    }\n",
       "</style>\n",
       "<table border=\"1\" class=\"dataframe\">\n",
       "  <thead>\n",
       "    <tr style=\"text-align: right;\">\n",
       "      <th></th>\n",
       "      <th>Attribute</th>\n",
       "      <th>Explanation</th>\n",
       "    </tr>\n",
       "  </thead>\n",
       "  <tbody>\n",
       "    <tr>\n",
       "      <th>0</th>\n",
       "      <td>VolumeName</td>\n",
       "      <td>The file name.</td>\n",
       "    </tr>\n",
       "    <tr>\n",
       "      <th>1</th>\n",
       "      <td>Manufacturer</td>\n",
       "      <td>Manufacturer of the equipment that produced th...</td>\n",
       "    </tr>\n",
       "    <tr>\n",
       "      <th>2</th>\n",
       "      <td>SeriesDescription</td>\n",
       "      <td>Description of the Series.</td>\n",
       "    </tr>\n",
       "    <tr>\n",
       "      <th>3</th>\n",
       "      <td>ManufacturerModelName</td>\n",
       "      <td>Manufacturer's model name of the equipment tha...</td>\n",
       "    </tr>\n",
       "    <tr>\n",
       "      <th>4</th>\n",
       "      <td>PatientSex</td>\n",
       "      <td>Sex of the named Patient.</td>\n",
       "    </tr>\n",
       "  </tbody>\n",
       "</table>\n",
       "</div>"
      ],
      "text/plain": [
       "               Attribute                                        Explanation\n",
       "0             VolumeName                                     The file name.\n",
       "1           Manufacturer  Manufacturer of the equipment that produced th...\n",
       "2      SeriesDescription                         Description of the Series.\n",
       "3  ManufacturerModelName  Manufacturer's model name of the equipment tha...\n",
       "4             PatientSex                          Sex of the named Patient."
      ]
     },
     "execution_count": 16,
     "metadata": {},
     "output_type": "execute_result"
    }
   ],
   "source": [
    "metadata_attributes_df.head()"
   ]
  },
  {
   "cell_type": "code",
   "execution_count": 17,
   "id": "63ddfaff",
   "metadata": {},
   "outputs": [
    {
     "data": {
      "text/html": [
       "<div>\n",
       "<style scoped>\n",
       "    .dataframe tbody tr th:only-of-type {\n",
       "        vertical-align: middle;\n",
       "    }\n",
       "\n",
       "    .dataframe tbody tr th {\n",
       "        vertical-align: top;\n",
       "    }\n",
       "\n",
       "    .dataframe thead th {\n",
       "        text-align: right;\n",
       "    }\n",
       "</style>\n",
       "<table border=\"1\" class=\"dataframe\">\n",
       "  <thead>\n",
       "    <tr style=\"text-align: right;\">\n",
       "      <th></th>\n",
       "      <th>Patient ID</th>\n",
       "      <th>Spleen</th>\n",
       "      <th>Kidney R</th>\n",
       "      <th>Kidney L</th>\n",
       "      <th>Gallbladder</th>\n",
       "      <th>Liver</th>\n",
       "      <th>Stomach</th>\n",
       "      <th>Aorta</th>\n",
       "      <th>Inferior vena cava</th>\n",
       "      <th>Portal vein and splenic vein</th>\n",
       "      <th>...</th>\n",
       "      <th>Subcutaneous tissue</th>\n",
       "      <th>Muscle</th>\n",
       "      <th>Abdominal cavity</th>\n",
       "      <th>Thoracic cavity</th>\n",
       "      <th>Bones</th>\n",
       "      <th>Gland structure</th>\n",
       "      <th>Pericardium</th>\n",
       "      <th>Prosthetic breast implant</th>\n",
       "      <th>Mediastinum</th>\n",
       "      <th>Spinal cord</th>\n",
       "    </tr>\n",
       "  </thead>\n",
       "  <tbody>\n",
       "    <tr>\n",
       "      <th>0</th>\n",
       "      <td>train_10000_a_2</td>\n",
       "      <td>1.0</td>\n",
       "      <td>1.0</td>\n",
       "      <td>1.0</td>\n",
       "      <td>NaN</td>\n",
       "      <td>1.0</td>\n",
       "      <td>1.0</td>\n",
       "      <td>1.0</td>\n",
       "      <td>1.0</td>\n",
       "      <td>1.0</td>\n",
       "      <td>...</td>\n",
       "      <td>True</td>\n",
       "      <td>True</td>\n",
       "      <td>1.0</td>\n",
       "      <td>1.0</td>\n",
       "      <td>True</td>\n",
       "      <td>1.0</td>\n",
       "      <td>1.0</td>\n",
       "      <td>NaN</td>\n",
       "      <td>1.0</td>\n",
       "      <td>1.0</td>\n",
       "    </tr>\n",
       "    <tr>\n",
       "      <th>1</th>\n",
       "      <td>train_10001_a_2</td>\n",
       "      <td>1.0</td>\n",
       "      <td>NaN</td>\n",
       "      <td>1.0</td>\n",
       "      <td>1.0</td>\n",
       "      <td>1.0</td>\n",
       "      <td>1.0</td>\n",
       "      <td>1.0</td>\n",
       "      <td>1.0</td>\n",
       "      <td>1.0</td>\n",
       "      <td>...</td>\n",
       "      <td>True</td>\n",
       "      <td>True</td>\n",
       "      <td>1.0</td>\n",
       "      <td>1.0</td>\n",
       "      <td>True</td>\n",
       "      <td>1.0</td>\n",
       "      <td>1.0</td>\n",
       "      <td>NaN</td>\n",
       "      <td>1.0</td>\n",
       "      <td>1.0</td>\n",
       "    </tr>\n",
       "    <tr>\n",
       "      <th>2</th>\n",
       "      <td>train_10002_a_2</td>\n",
       "      <td>1.0</td>\n",
       "      <td>1.0</td>\n",
       "      <td>1.0</td>\n",
       "      <td>1.0</td>\n",
       "      <td>1.0</td>\n",
       "      <td>1.0</td>\n",
       "      <td>1.0</td>\n",
       "      <td>1.0</td>\n",
       "      <td>1.0</td>\n",
       "      <td>...</td>\n",
       "      <td>True</td>\n",
       "      <td>True</td>\n",
       "      <td>1.0</td>\n",
       "      <td>1.0</td>\n",
       "      <td>True</td>\n",
       "      <td>1.0</td>\n",
       "      <td>1.0</td>\n",
       "      <td>1.0</td>\n",
       "      <td>1.0</td>\n",
       "      <td>1.0</td>\n",
       "    </tr>\n",
       "    <tr>\n",
       "      <th>3</th>\n",
       "      <td>train_10003_a_2</td>\n",
       "      <td>1.0</td>\n",
       "      <td>1.0</td>\n",
       "      <td>1.0</td>\n",
       "      <td>1.0</td>\n",
       "      <td>1.0</td>\n",
       "      <td>1.0</td>\n",
       "      <td>1.0</td>\n",
       "      <td>1.0</td>\n",
       "      <td>1.0</td>\n",
       "      <td>...</td>\n",
       "      <td>True</td>\n",
       "      <td>True</td>\n",
       "      <td>1.0</td>\n",
       "      <td>1.0</td>\n",
       "      <td>True</td>\n",
       "      <td>1.0</td>\n",
       "      <td>1.0</td>\n",
       "      <td>1.0</td>\n",
       "      <td>1.0</td>\n",
       "      <td>1.0</td>\n",
       "    </tr>\n",
       "    <tr>\n",
       "      <th>4</th>\n",
       "      <td>train_10004_a_2</td>\n",
       "      <td>1.0</td>\n",
       "      <td>1.0</td>\n",
       "      <td>1.0</td>\n",
       "      <td>1.0</td>\n",
       "      <td>1.0</td>\n",
       "      <td>1.0</td>\n",
       "      <td>1.0</td>\n",
       "      <td>1.0</td>\n",
       "      <td>1.0</td>\n",
       "      <td>...</td>\n",
       "      <td>True</td>\n",
       "      <td>True</td>\n",
       "      <td>1.0</td>\n",
       "      <td>1.0</td>\n",
       "      <td>True</td>\n",
       "      <td>1.0</td>\n",
       "      <td>1.0</td>\n",
       "      <td>NaN</td>\n",
       "      <td>1.0</td>\n",
       "      <td>1.0</td>\n",
       "    </tr>\n",
       "  </tbody>\n",
       "</table>\n",
       "<p>5 rows × 168 columns</p>\n",
       "</div>"
      ],
      "text/plain": [
       "        Patient ID  Spleen  Kidney R  Kidney L  Gallbladder  Liver  Stomach  \\\n",
       "0  train_10000_a_2     1.0       1.0       1.0          NaN    1.0      1.0   \n",
       "1  train_10001_a_2     1.0       NaN       1.0          1.0    1.0      1.0   \n",
       "2  train_10002_a_2     1.0       1.0       1.0          1.0    1.0      1.0   \n",
       "3  train_10003_a_2     1.0       1.0       1.0          1.0    1.0      1.0   \n",
       "4  train_10004_a_2     1.0       1.0       1.0          1.0    1.0      1.0   \n",
       "\n",
       "   Aorta  Inferior vena cava  Portal vein and splenic vein  ...  \\\n",
       "0    1.0                 1.0                           1.0  ...   \n",
       "1    1.0                 1.0                           1.0  ...   \n",
       "2    1.0                 1.0                           1.0  ...   \n",
       "3    1.0                 1.0                           1.0  ...   \n",
       "4    1.0                 1.0                           1.0  ...   \n",
       "\n",
       "   Subcutaneous tissue  Muscle  Abdominal cavity  Thoracic cavity  Bones  \\\n",
       "0                 True    True               1.0              1.0   True   \n",
       "1                 True    True               1.0              1.0   True   \n",
       "2                 True    True               1.0              1.0   True   \n",
       "3                 True    True               1.0              1.0   True   \n",
       "4                 True    True               1.0              1.0   True   \n",
       "\n",
       "   Gland structure  Pericardium  Prosthetic breast implant  Mediastinum  \\\n",
       "0              1.0          1.0                        NaN          1.0   \n",
       "1              1.0          1.0                        NaN          1.0   \n",
       "2              1.0          1.0                        1.0          1.0   \n",
       "3              1.0          1.0                        1.0          1.0   \n",
       "4              1.0          1.0                        NaN          1.0   \n",
       "\n",
       "   Spinal cord  \n",
       "0          1.0  \n",
       "1          1.0  \n",
       "2          1.0  \n",
       "3          1.0  \n",
       "4          1.0  \n",
       "\n",
       "[5 rows x 168 columns]"
      ]
     },
     "execution_count": 17,
     "metadata": {},
     "output_type": "execute_result"
    }
   ],
   "source": [
    "train_label_summary_df.head()"
   ]
  },
  {
   "cell_type": "code",
   "execution_count": 18,
   "id": "3f67dbef",
   "metadata": {},
   "outputs": [
    {
     "data": {
      "text/html": [
       "<div>\n",
       "<style scoped>\n",
       "    .dataframe tbody tr th:only-of-type {\n",
       "        vertical-align: middle;\n",
       "    }\n",
       "\n",
       "    .dataframe tbody tr th {\n",
       "        vertical-align: top;\n",
       "    }\n",
       "\n",
       "    .dataframe thead th {\n",
       "        text-align: right;\n",
       "    }\n",
       "</style>\n",
       "<table border=\"1\" class=\"dataframe\">\n",
       "  <thead>\n",
       "    <tr style=\"text-align: right;\">\n",
       "      <th></th>\n",
       "      <th>VolumeName</th>\n",
       "      <th>Manufacturer</th>\n",
       "      <th>SeriesDescription</th>\n",
       "      <th>ManufacturerModelName</th>\n",
       "      <th>PatientSex</th>\n",
       "      <th>PatientAge</th>\n",
       "      <th>ReconstructionDiameter</th>\n",
       "      <th>DistanceSourceToDetector</th>\n",
       "      <th>DistanceSourceToPatient</th>\n",
       "      <th>GantryDetectorTilt</th>\n",
       "      <th>...</th>\n",
       "      <th>PhotometricInterpretation</th>\n",
       "      <th>Rows</th>\n",
       "      <th>Columns</th>\n",
       "      <th>XYSpacing</th>\n",
       "      <th>RescaleIntercept</th>\n",
       "      <th>RescaleSlope</th>\n",
       "      <th>RescaleType</th>\n",
       "      <th>NumberofSlices</th>\n",
       "      <th>ZSpacing</th>\n",
       "      <th>StudyDate</th>\n",
       "    </tr>\n",
       "  </thead>\n",
       "  <tbody>\n",
       "    <tr>\n",
       "      <th>0</th>\n",
       "      <td>train_1_a_1.nii.gz</td>\n",
       "      <td>Siemens Healthineers</td>\n",
       "      <td>Thorax 1,50 Br40 S3</td>\n",
       "      <td>SOMATOM go.All</td>\n",
       "      <td>NaN</td>\n",
       "      <td>049Y</td>\n",
       "      <td>420.303754</td>\n",
       "      <td>983.0</td>\n",
       "      <td>535.0</td>\n",
       "      <td>0</td>\n",
       "      <td>...</td>\n",
       "      <td>MONOCHROME2</td>\n",
       "      <td>512</td>\n",
       "      <td>512</td>\n",
       "      <td>[0.82090625, 0.82090625]</td>\n",
       "      <td>-8192</td>\n",
       "      <td>1</td>\n",
       "      <td>HU</td>\n",
       "      <td>303</td>\n",
       "      <td>1.00</td>\n",
       "      <td>20220110</td>\n",
       "    </tr>\n",
       "    <tr>\n",
       "      <th>1</th>\n",
       "      <td>train_1_a_2.nii.gz</td>\n",
       "      <td>Siemens Healthineers</td>\n",
       "      <td>Thorax 1,50 Br60 S3</td>\n",
       "      <td>SOMATOM go.All</td>\n",
       "      <td>NaN</td>\n",
       "      <td>049Y</td>\n",
       "      <td>420.303754</td>\n",
       "      <td>983.0</td>\n",
       "      <td>535.0</td>\n",
       "      <td>0</td>\n",
       "      <td>...</td>\n",
       "      <td>MONOCHROME2</td>\n",
       "      <td>512</td>\n",
       "      <td>512</td>\n",
       "      <td>[0.82090625, 0.82090625]</td>\n",
       "      <td>-8192</td>\n",
       "      <td>1</td>\n",
       "      <td>HU</td>\n",
       "      <td>303</td>\n",
       "      <td>1.00</td>\n",
       "      <td>20220110</td>\n",
       "    </tr>\n",
       "    <tr>\n",
       "      <th>2</th>\n",
       "      <td>train_2_a_1.nii.gz</td>\n",
       "      <td>Siemens Healthineers</td>\n",
       "      <td>Thorax 1,50 Br40 S3</td>\n",
       "      <td>SOMATOM go.All</td>\n",
       "      <td>M</td>\n",
       "      <td>045Y</td>\n",
       "      <td>365.000000</td>\n",
       "      <td>983.0</td>\n",
       "      <td>535.0</td>\n",
       "      <td>0</td>\n",
       "      <td>...</td>\n",
       "      <td>MONOCHROME2</td>\n",
       "      <td>512</td>\n",
       "      <td>512</td>\n",
       "      <td>[0.712890625, 0.712890625]</td>\n",
       "      <td>-8192</td>\n",
       "      <td>1</td>\n",
       "      <td>HU</td>\n",
       "      <td>306</td>\n",
       "      <td>1.00</td>\n",
       "      <td>20211116</td>\n",
       "    </tr>\n",
       "    <tr>\n",
       "      <th>3</th>\n",
       "      <td>train_2_a_2.nii.gz</td>\n",
       "      <td>Siemens Healthineers</td>\n",
       "      <td>Thorax 1,50 Br60 S3</td>\n",
       "      <td>SOMATOM go.All</td>\n",
       "      <td>M</td>\n",
       "      <td>045Y</td>\n",
       "      <td>365.000000</td>\n",
       "      <td>983.0</td>\n",
       "      <td>535.0</td>\n",
       "      <td>0</td>\n",
       "      <td>...</td>\n",
       "      <td>MONOCHROME2</td>\n",
       "      <td>512</td>\n",
       "      <td>512</td>\n",
       "      <td>[0.712890625, 0.712890625]</td>\n",
       "      <td>-8192</td>\n",
       "      <td>1</td>\n",
       "      <td>HU</td>\n",
       "      <td>306</td>\n",
       "      <td>1.00</td>\n",
       "      <td>20211116</td>\n",
       "    </tr>\n",
       "    <tr>\n",
       "      <th>4</th>\n",
       "      <td>train_3_a_1.nii.gz</td>\n",
       "      <td>Siemens Healthineers</td>\n",
       "      <td>Thorax 1,50 Bl56 S3</td>\n",
       "      <td>SOMATOM go.All</td>\n",
       "      <td>M</td>\n",
       "      <td>073Y</td>\n",
       "      <td>389.651856</td>\n",
       "      <td>983.0</td>\n",
       "      <td>535.0</td>\n",
       "      <td>0</td>\n",
       "      <td>...</td>\n",
       "      <td>MONOCHROME2</td>\n",
       "      <td>512</td>\n",
       "      <td>512</td>\n",
       "      <td>[0.7610390625, 0.7610390625]</td>\n",
       "      <td>-8192</td>\n",
       "      <td>1</td>\n",
       "      <td>HU</td>\n",
       "      <td>270</td>\n",
       "      <td>1.25</td>\n",
       "      <td>20220608</td>\n",
       "    </tr>\n",
       "  </tbody>\n",
       "</table>\n",
       "<p>5 rows × 44 columns</p>\n",
       "</div>"
      ],
      "text/plain": [
       "           VolumeName          Manufacturer    SeriesDescription  \\\n",
       "0  train_1_a_1.nii.gz  Siemens Healthineers  Thorax 1,50 Br40 S3   \n",
       "1  train_1_a_2.nii.gz  Siemens Healthineers  Thorax 1,50 Br60 S3   \n",
       "2  train_2_a_1.nii.gz  Siemens Healthineers  Thorax 1,50 Br40 S3   \n",
       "3  train_2_a_2.nii.gz  Siemens Healthineers  Thorax 1,50 Br60 S3   \n",
       "4  train_3_a_1.nii.gz  Siemens Healthineers  Thorax 1,50 Bl56 S3   \n",
       "\n",
       "  ManufacturerModelName PatientSex PatientAge  ReconstructionDiameter  \\\n",
       "0        SOMATOM go.All        NaN       049Y              420.303754   \n",
       "1        SOMATOM go.All        NaN       049Y              420.303754   \n",
       "2        SOMATOM go.All          M       045Y              365.000000   \n",
       "3        SOMATOM go.All          M       045Y              365.000000   \n",
       "4        SOMATOM go.All          M       073Y              389.651856   \n",
       "\n",
       "   DistanceSourceToDetector  DistanceSourceToPatient  GantryDetectorTilt  ...  \\\n",
       "0                     983.0                    535.0                   0  ...   \n",
       "1                     983.0                    535.0                   0  ...   \n",
       "2                     983.0                    535.0                   0  ...   \n",
       "3                     983.0                    535.0                   0  ...   \n",
       "4                     983.0                    535.0                   0  ...   \n",
       "\n",
       "   PhotometricInterpretation Rows  Columns                     XYSpacing  \\\n",
       "0                MONOCHROME2  512      512      [0.82090625, 0.82090625]   \n",
       "1                MONOCHROME2  512      512      [0.82090625, 0.82090625]   \n",
       "2                MONOCHROME2  512      512    [0.712890625, 0.712890625]   \n",
       "3                MONOCHROME2  512      512    [0.712890625, 0.712890625]   \n",
       "4                MONOCHROME2  512      512  [0.7610390625, 0.7610390625]   \n",
       "\n",
       "   RescaleIntercept RescaleSlope  RescaleType NumberofSlices ZSpacing  \\\n",
       "0             -8192            1           HU            303     1.00   \n",
       "1             -8192            1           HU            303     1.00   \n",
       "2             -8192            1           HU            306     1.00   \n",
       "3             -8192            1           HU            306     1.00   \n",
       "4             -8192            1           HU            270     1.25   \n",
       "\n",
       "  StudyDate  \n",
       "0  20220110  \n",
       "1  20220110  \n",
       "2  20211116  \n",
       "3  20211116  \n",
       "4  20220608  \n",
       "\n",
       "[5 rows x 44 columns]"
      ]
     },
     "execution_count": 18,
     "metadata": {},
     "output_type": "execute_result"
    }
   ],
   "source": [
    "train_metadata_df.head()"
   ]
  },
  {
   "cell_type": "code",
   "execution_count": 19,
   "id": "e730ae2e",
   "metadata": {},
   "outputs": [
    {
     "data": {
      "text/html": [
       "<div>\n",
       "<style scoped>\n",
       "    .dataframe tbody tr th:only-of-type {\n",
       "        vertical-align: middle;\n",
       "    }\n",
       "\n",
       "    .dataframe tbody tr th {\n",
       "        vertical-align: top;\n",
       "    }\n",
       "\n",
       "    .dataframe thead th {\n",
       "        text-align: right;\n",
       "    }\n",
       "</style>\n",
       "<table border=\"1\" class=\"dataframe\">\n",
       "  <thead>\n",
       "    <tr style=\"text-align: right;\">\n",
       "      <th></th>\n",
       "      <th>VolumeName</th>\n",
       "      <th>ClinicalInformation_EN</th>\n",
       "      <th>Technique_EN</th>\n",
       "      <th>Findings_EN</th>\n",
       "      <th>Impressions_EN</th>\n",
       "    </tr>\n",
       "  </thead>\n",
       "  <tbody>\n",
       "    <tr>\n",
       "      <th>0</th>\n",
       "      <td>train_1_a_1.nii.gz</td>\n",
       "      <td>Not given.</td>\n",
       "      <td>Non-contrast images were taken in the axial pl...</td>\n",
       "      <td>Multiple venous collaterals are present in the...</td>\n",
       "      <td>Multiple venous collaterals in the anterior l...</td>\n",
       "    </tr>\n",
       "    <tr>\n",
       "      <th>1</th>\n",
       "      <td>train_1_a_2.nii.gz</td>\n",
       "      <td>Not given.</td>\n",
       "      <td>Non-contrast images were taken in the axial pl...</td>\n",
       "      <td>Multiple venous collaterals are present in the...</td>\n",
       "      <td>Multiple venous collaterals in the anterior l...</td>\n",
       "    </tr>\n",
       "    <tr>\n",
       "      <th>2</th>\n",
       "      <td>train_2_a_1.nii.gz</td>\n",
       "      <td>Not given.</td>\n",
       "      <td>Non-contrast images were taken in the axial pl...</td>\n",
       "      <td>Trachea and both main bronchi were in the midl...</td>\n",
       "      <td>Emphysematous and passive atelectatic changes...</td>\n",
       "    </tr>\n",
       "    <tr>\n",
       "      <th>3</th>\n",
       "      <td>train_2_a_2.nii.gz</td>\n",
       "      <td>Not given.</td>\n",
       "      <td>Non-contrast images were taken in the axial pl...</td>\n",
       "      <td>Trachea and both main bronchi were in the midl...</td>\n",
       "      <td>Emphysematous and passive atelectatic changes...</td>\n",
       "    </tr>\n",
       "    <tr>\n",
       "      <th>4</th>\n",
       "      <td>train_3_a_1.nii.gz</td>\n",
       "      <td>Kidney transplant candidate.</td>\n",
       "      <td>Non-contrast images were taken in the axial pl...</td>\n",
       "      <td>Right thyroid lobe sizes increased. Evaluation...</td>\n",
       "      <td>Calcific atheromatous plaques in coronary art...</td>\n",
       "    </tr>\n",
       "  </tbody>\n",
       "</table>\n",
       "</div>"
      ],
      "text/plain": [
       "           VolumeName        ClinicalInformation_EN  \\\n",
       "0  train_1_a_1.nii.gz                    Not given.   \n",
       "1  train_1_a_2.nii.gz                    Not given.   \n",
       "2  train_2_a_1.nii.gz                    Not given.   \n",
       "3  train_2_a_2.nii.gz                    Not given.   \n",
       "4  train_3_a_1.nii.gz  Kidney transplant candidate.   \n",
       "\n",
       "                                        Technique_EN  \\\n",
       "0  Non-contrast images were taken in the axial pl...   \n",
       "1  Non-contrast images were taken in the axial pl...   \n",
       "2  Non-contrast images were taken in the axial pl...   \n",
       "3  Non-contrast images were taken in the axial pl...   \n",
       "4  Non-contrast images were taken in the axial pl...   \n",
       "\n",
       "                                         Findings_EN  \\\n",
       "0  Multiple venous collaterals are present in the...   \n",
       "1  Multiple venous collaterals are present in the...   \n",
       "2  Trachea and both main bronchi were in the midl...   \n",
       "3  Trachea and both main bronchi were in the midl...   \n",
       "4  Right thyroid lobe sizes increased. Evaluation...   \n",
       "\n",
       "                                      Impressions_EN  \n",
       "0   Multiple venous collaterals in the anterior l...  \n",
       "1   Multiple venous collaterals in the anterior l...  \n",
       "2   Emphysematous and passive atelectatic changes...  \n",
       "3   Emphysematous and passive atelectatic changes...  \n",
       "4   Calcific atheromatous plaques in coronary art...  "
      ]
     },
     "execution_count": 19,
     "metadata": {},
     "output_type": "execute_result"
    }
   ],
   "source": [
    "train_reports_df.head()"
   ]
  },
  {
   "cell_type": "markdown",
   "id": "69c73588",
   "metadata": {},
   "source": [
    "# **Limpieza de datos**"
   ]
  },
  {
   "cell_type": "code",
   "execution_count": 20,
   "id": "84298460",
   "metadata": {},
   "outputs": [],
   "source": [
    "# Limpieza train_metadata_df\n",
    "if \"PatientAge\" in train_metadata_df.columns:\n",
    "    train_metadata_df[\"PatientAge\"] = train_metadata_df[\"PatientAge\"].astype(str).str.replace(\"Y\", \"\")\n",
    "    train_metadata_df[\"PatientAge\"] = pd.to_numeric(train_metadata_df[\"PatientAge\"], errors=\"coerce\")\n",
    "    train_metadata_df.loc[(train_metadata_df[\"PatientAge\"] < 0) | (train_metadata_df[\"PatientAge\"] > 120), \"PatientAge\"] = np.nan\n",
    "\n",
    "if \"PatientSex\" in train_metadata_df.columns:\n",
    "    train_metadata_df[\"PatientSex\"] = train_metadata_df[\"PatientSex\"].fillna(\"Unknown\")\n",
    "\n",
    "num_cols = [\"ReconstructionDiameter\", \"DistanceSourceToDetector\", \"DistanceSourceToPatient\"]\n",
    "for col in num_cols:\n",
    "    if col in train_metadata_df.columns:\n",
    "        train_metadata_df[col] = pd.to_numeric(train_metadata_df[col], errors=\"coerce\")\n",
    "\n",
    "if \"VolumeName\" in train_metadata_df.columns:\n",
    "    train_metadata_df = train_metadata_df.drop_duplicates(subset=\"VolumeName\")\n",
    "\n",
    "# Limpieza train_reports_df\n",
    "clinical_cols = [\"ClinicalInformation_EN\", \"Technique_EN\", \"Findings_EN\", \"Impressions_EN\"]\n",
    "for col in clinical_cols:\n",
    "    if col in train_reports_df.columns:\n",
    "        train_reports_df[col] = train_reports_df[col].replace(\"Not given.\", pd.NA)\n",
    "\n",
    "if \"VolumeName\" in train_reports_df.columns:\n",
    "    train_reports_df = train_reports_df.drop_duplicates(subset=\"VolumeName\")\n",
    "\n",
    "# Limpieza train_label_summary_df\n",
    "if \"VolumeName\" in train_label_summary_df.columns:\n",
    "    train_label_summary_df = train_label_summary_df.drop_duplicates(subset=\"VolumeName\")"
   ]
  },
  {
   "cell_type": "code",
   "execution_count": 21,
   "id": "2a521adf",
   "metadata": {},
   "outputs": [
    {
     "name": "stdout",
     "output_type": "stream",
     "text": [
      "Muestra de PatientAge ya limpia:\n"
     ]
    },
    {
     "data": {
      "text/plain": [
       "0    49\n",
       "1    49\n",
       "2    45\n",
       "3    45\n",
       "4    73\n",
       "Name: PatientAge, dtype: Int64"
      ]
     },
     "metadata": {},
     "output_type": "display_data"
    },
    {
     "name": "stdout",
     "output_type": "stream",
     "text": [
      "% nulos en PatientAge: 0.04\n"
     ]
    }
   ],
   "source": [
    "# Limpieza de PatientAge\n",
    "if \"PatientAge\" in train_metadata_df.columns and train_metadata_df[\"PatientAge\"].isna().all():\n",
    "    raw_age = pd.read_csv(\"../datos/otros_labels/train_metadata.csv\", usecols=[\"VolumeName\",\"PatientAge\"])\n",
    "    raw_age[\"VolumeName\"] = raw_age[\"VolumeName\"].astype(str).str.strip()\n",
    "    train_metadata_df[\"VolumeName\"] = train_metadata_df[\"VolumeName\"].astype(str).str.strip()\n",
    "    train_metadata_df = (\n",
    "        train_metadata_df.drop(columns=[\"PatientAge\"], errors=\"ignore\")\n",
    "        .merge(raw_age, on=\"VolumeName\", how=\"left\")\n",
    "    )\n",
    "\n",
    "# 1) Extraer numeros desde el texto (ej. \"049Y\" -> \"049\")\n",
    "train_metadata_df[\"PatientAge\"] = (\n",
    "    train_metadata_df[\"PatientAge\"]\n",
    "    .astype(\"string\")         \n",
    "    .str.strip()\n",
    "    .str.extract(r\"(\\d{1,3})\", expand=False) \n",
    ")\n",
    "\n",
    "# 2) Convertira entero\n",
    "train_metadata_df[\"PatientAge\"] = pd.to_numeric(\n",
    "    train_metadata_df[\"PatientAge\"], errors=\"coerce\"\n",
    ").astype(\"Int64\")\n",
    "\n",
    "\n",
    "print(\"Muestra de PatientAge ya limpia:\")\n",
    "display(train_metadata_df[\"PatientAge\"].head(5))\n",
    "print(\"% nulos en PatientAge:\", (train_metadata_df[\"PatientAge\"].isna().mean()*100).round(2))"
   ]
  },
  {
   "cell_type": "markdown",
   "id": "90dad88b",
   "metadata": {},
   "source": [
    "**Nota**: En la limpieza de `PatientAge`, se asume que los valores están en un formato como \"049Y\" o \"30Y\". El código extrae solo los números y los convierte a enteros, manejando valores no numéricos como nulos."
   ]
  },
  {
   "cell_type": "code",
   "execution_count": 22,
   "id": "e6338706",
   "metadata": {},
   "outputs": [
    {
     "name": "stdout",
     "output_type": "stream",
     "text": [
      "Dimensiones df_full: (47149, 48)\n"
     ]
    }
   ],
   "source": [
    "# 1) Unificacion de datasets (reports + metadata + labels)\n",
    "df_full = train_reports_df.merge(train_metadata_df, on=\"VolumeName\", how=\"inner\")\n",
    "if \"VolumeName\" in train_label_summary_df.columns:\n",
    "    df_full = df_full.merge(train_label_summary_df, on=\"VolumeName\", how=\"left\")\n",
    "\n",
    "print(\"Dimensiones df_full:\", df_full.shape)"
   ]
  },
  {
   "cell_type": "markdown",
   "id": "883e0df5",
   "metadata": {},
   "source": [
    "# **EDA**"
   ]
  },
  {
   "cell_type": "code",
   "execution_count": null,
   "id": "8f247ebb",
   "metadata": {},
   "outputs": [
    {
     "name": "stdout",
     "output_type": "stream",
     "text": [
      "Top 10 columnas con mayor % de nulos:\n"
     ]
    },
    {
     "data": {
      "text/plain": [
       "RescaleType                          66.49\n",
       "DataCollectionCenterPatient          66.19\n",
       "FocalSpots                           66.18\n",
       "ReconstructionTargetCenterPatient    66.18\n",
       "GeneratorPower                       66.18\n",
       "TotalCollimationWidth                56.80\n",
       "SingleCollimationWidth               56.80\n",
       "RevolutionTime                       56.63\n",
       "DistanceSourceToPatient              52.06\n",
       "DistanceSourceToDetector             52.06\n",
       "dtype: float64"
      ]
     },
     "metadata": {},
     "output_type": "display_data"
    },
    {
     "name": "stdout",
     "output_type": "stream",
     "text": [
      "Duplicados por VolumeName (post-merge): 0\n"
     ]
    }
   ],
   "source": [
    "faltantes_pct = (df_full.isna().mean().sort_values(ascending=False) * 100).round(2)\n",
    "faltantes_pct = faltantes_pct[faltantes_pct > 0]\n",
    "print(\"Top 10 columnas con mayor % de nulos:\")\n",
    "display(faltantes_pct.head(10))\n",
    "print(\"Duplicados por VolumeName (post-merge):\", df_full.duplicated(subset=\"VolumeName\").sum())"
   ]
  },
  {
   "cell_type": "code",
   "execution_count": null,
   "id": "3b240530",
   "metadata": {},
   "outputs": [
    {
     "name": "stdout",
     "output_type": "stream",
     "text": [
      "Distribución de sexo:\n"
     ]
    },
    {
     "data": {
      "text/plain": [
       "PatientSex\n",
       "M          27462\n",
       "F          19681\n",
       "Unknown        6\n",
       "Name: count, dtype: int64"
      ]
     },
     "metadata": {},
     "output_type": "display_data"
    },
    {
     "name": "stdout",
     "output_type": "stream",
     "text": [
      "Estadísticas de edad:\n"
     ]
    },
    {
     "data": {
      "text/plain": [
       "count      47130.0\n",
       "mean     49.031997\n",
       "std      17.372691\n",
       "min           18.0\n",
       "25%           35.0\n",
       "50%           47.0\n",
       "75%           62.0\n",
       "max          102.0\n",
       "Name: PatientAge, dtype: Float64"
      ]
     },
     "metadata": {},
     "output_type": "display_data"
    },
    {
     "data": {
      "image/png": "[encoded data removed]",
      "text/plain": [
       "<Figure size 600x400 with 1 Axes>"
      ]
     },
     "metadata": {},
     "output_type": "display_data"
    },
    {
     "name": "stdout",
     "output_type": "stream",
     "text": [
      "Conteo por rangos de edad y sexo:\n"
     ]
    },
    {
     "data": {
      "text/html": [
       "<div>\n",
       "<style scoped>\n",
       "    .dataframe tbody tr th:only-of-type {\n",
       "        vertical-align: middle;\n",
       "    }\n",
       "\n",
       "    .dataframe tbody tr th {\n",
       "        vertical-align: top;\n",
       "    }\n",
       "\n",
       "    .dataframe thead th {\n",
       "        text-align: right;\n",
       "    }\n",
       "</style>\n",
       "<table border=\"1\" class=\"dataframe\">\n",
       "  <thead>\n",
       "    <tr style=\"text-align: right;\">\n",
       "      <th>PatientSex</th>\n",
       "      <th>F</th>\n",
       "      <th>M</th>\n",
       "      <th>Unknown</th>\n",
       "    </tr>\n",
       "    <tr>\n",
       "      <th>PatientAge</th>\n",
       "      <th></th>\n",
       "      <th></th>\n",
       "      <th></th>\n",
       "    </tr>\n",
       "  </thead>\n",
       "  <tbody>\n",
       "    <tr>\n",
       "      <th>(-0.001, 18.0]</th>\n",
       "      <td>55</td>\n",
       "      <td>117</td>\n",
       "      <td>0</td>\n",
       "    </tr>\n",
       "    <tr>\n",
       "      <th>(18.0, 40.0]</th>\n",
       "      <td>7240</td>\n",
       "      <td>10233</td>\n",
       "      <td>0</td>\n",
       "    </tr>\n",
       "    <tr>\n",
       "      <th>(40.0, 60.0]</th>\n",
       "      <td>6341</td>\n",
       "      <td>9891</td>\n",
       "      <td>6</td>\n",
       "    </tr>\n",
       "    <tr>\n",
       "      <th>(60.0, 80.0]</th>\n",
       "      <td>4978</td>\n",
       "      <td>6283</td>\n",
       "      <td>0</td>\n",
       "    </tr>\n",
       "    <tr>\n",
       "      <th>(80.0, 120.0]</th>\n",
       "      <td>1059</td>\n",
       "      <td>927</td>\n",
       "      <td>0</td>\n",
       "    </tr>\n",
       "  </tbody>\n",
       "</table>\n",
       "</div>"
      ],
      "text/plain": [
       "PatientSex         F      M  Unknown\n",
       "PatientAge                          \n",
       "(-0.001, 18.0]    55    117        0\n",
       "(18.0, 40.0]    7240  10233        0\n",
       "(40.0, 60.0]    6341   9891        6\n",
       "(60.0, 80.0]    4978   6283        0\n",
       "(80.0, 120.0]   1059    927        0"
      ]
     },
     "metadata": {},
     "output_type": "display_data"
    }
   ],
   "source": [
    "if \"PatientSex\" in df_full.columns:\n",
    "    print(\"Distribución de sexo:\")\n",
    "    display(df_full[\"PatientSex\"].value_counts(dropna=False))\n",
    "\n",
    "if \"PatientAge\" in df_full.columns:\n",
    "    print(\"Estadísticas de edad:\")\n",
    "    display(df_full[\"PatientAge\"].describe())\n",
    "\n",
    "    plt.figure(figsize=(6,4), facecolor=\"white\")\n",
    "    sns.histplot(data=df_full, x=\"PatientAge\", bins=20, kde=True, color=\"darkblue\")\n",
    "    plt.title(\"Distribución de edad\")\n",
    "    plt.tight_layout()\n",
    "    plt.show()\n",
    "\n",
    "    if \"PatientSex\" in df_full.columns:\n",
    "        grupos = pd.cut(df_full[\"PatientAge\"], bins=[0,18,40,60,80,120], right=True, include_lowest=True)\n",
    "        print(\"Conteo por rangos de edad y sexo:\")\n",
    "        display(pd.crosstab(grupos, df_full[\"PatientSex\"]))"
   ]
  },
  {
   "cell_type": "code",
   "execution_count": 98,
   "id": "ca3bdfcc",
   "metadata": {},
   "outputs": [
    {
     "data": {
      "image/png": "[encoded data removed]",
      "text/plain": [
       "<Figure size 900x350 with 1 Axes>"
      ]
     },
     "metadata": {},
     "output_type": "display_data"
    }
   ],
   "source": [
    "col = \"ReconstructionDiameter\"\n",
    "if col in df_full.columns:\n",
    "    x = df_full[col].dropna().astype(float)\n",
    "\n",
    "    bins = np.linspace(x.min(), x.max(), 45)\n",
    "\n",
    "    plt.figure(figsize=(9, 3.5))\n",
    "    plt.hist(x, bins=bins, density=True, rwidth=1.0, edgecolor=\"none\") \n",
    "    if x.nunique() > 1:\n",
    "        sns.kdeplot(x, color=\"orange\", lw=3, bw_adjust=0.9, clip=(x.min(), x.max()))\n",
    "    plt.title(f\"Distribución de {col}\")\n",
    "    plt.xlabel(col); plt.ylabel(\"Densidad\")\n",
    "    plt.grid(True, ls=\"--\", lw=0.5, alpha=0.5)\n",
    "    plt.tight_layout(); plt.show()"
   ]
  },
  {
   "cell_type": "code",
   "execution_count": 92,
   "id": "a105ca98",
   "metadata": {},
   "outputs": [
    {
     "data": {
      "image/png": "[encoded data removed]",
      "text/plain": [
       "<Figure size 900x350 with 1 Axes>"
      ]
     },
     "metadata": {},
     "output_type": "display_data"
    }
   ],
   "source": [
    "col = \"DistanceSourceToDetector\"\n",
    "\n",
    "if col in df_full.columns:\n",
    "    x = df_full[col].dropna().astype(float)\n",
    "\n",
    "    bins = np.linspace(x.min(), x.max(), 10)\n",
    "\n",
    "    plt.figure(figsize=(9, 3.5))\n",
    "    plt.hist(x, bins=bins, density=True, rwidth=1.0, edgecolor=\"none\")\n",
    "    if x.nunique() > 1:\n",
    "        sns.kdeplot(x, color=\"orange\", lw=3, bw_adjust=0.9, clip=(x.min(), x.max()))\n",
    "    plt.title(f\"Distribución de {col}\")\n",
    "    plt.xlabel(col); plt.ylabel(\"Densidad\")\n",
    "    plt.grid(True, ls=\"--\", lw=0.5, alpha=0.5)\n",
    "    plt.tight_layout(); plt.show()"
   ]
  },
  {
   "cell_type": "code",
   "execution_count": 88,
   "id": "02e51e6b",
   "metadata": {},
   "outputs": [
    {
     "data": {
      "image/png": "[encoded data removed]",
      "text/plain": [
       "<Figure size 900x350 with 1 Axes>"
      ]
     },
     "metadata": {},
     "output_type": "display_data"
    }
   ],
   "source": [
    "col = \"DistanceSourceToPatient\"\n",
    "\n",
    "if col in df_full.columns:\n",
    "    x = df_full[col].dropna().astype(float)\n",
    "\n",
    "    bins = np.linspace(x.min(), x.max(), 9)\n",
    "\n",
    "    plt.figure(figsize=(9, 3.5))\n",
    "    plt.hist(x, bins=bins, density=True, rwidth=10.0, edgecolor=\"none\")\n",
    "    if x.nunique() > 1:\n",
    "        sns.kdeplot(x, color=\"orange\", lw=3, bw_adjust=0.9, clip=(0, x.max()))\n",
    "    plt.title(f\"Distribución de {col}\")\n",
    "    plt.xlabel(col); plt.ylabel(\"Densidad\")\n",
    "    plt.grid(True, ls=\"--\", lw=0.5, alpha=0.5)\n",
    "    plt.tight_layout(); plt.show()"
   ]
  },
  {
   "cell_type": "code",
   "execution_count": 97,
   "id": "6d89ec90",
   "metadata": {},
   "outputs": [
    {
     "name": "stdout",
     "output_type": "stream",
     "text": [
      "\n",
      "Top fabricantes:\n"
     ]
    },
    {
     "data": {
      "text/plain": [
       "Manufacturer\n",
       "Philips                 28966\n",
       "Siemens Healthineers    13791\n",
       "PNMS                     2237\n",
       "Name: count, dtype: int64"
      ]
     },
     "metadata": {},
     "output_type": "display_data"
    },
    {
     "name": "stdout",
     "output_type": "stream",
     "text": [
      "\n",
      "Top modelos:\n"
     ]
    },
    {
     "data": {
      "text/plain": [
       "ManufacturerModelName\n",
       "iCT 256                24543\n",
       "SOMATOM go.All         13791\n",
       "Brilliance Big Bore     4421\n",
       "Name: count, dtype: int64"
      ]
     },
     "metadata": {},
     "output_type": "display_data"
    },
    {
     "name": "stdout",
     "output_type": "stream",
     "text": [
      "\n",
      "Top SeriesDescription:\n"
     ]
    },
    {
     "data": {
      "text/plain": [
       "SeriesDescription\n",
       "HRCT                   13796\n",
       "Thorax 1,50 Br40 S3     6815\n",
       "Thorax 1,50 Br60 S3     4074\n",
       "Name: count, dtype: int64"
      ]
     },
     "metadata": {},
     "output_type": "display_data"
    }
   ],
   "source": [
    "print(\"\\nTop fabricantes:\")\n",
    "if \"Manufacturer\" in df_full.columns:\n",
    "    display(df_full[\"Manufacturer\"].value_counts().head(3))\n",
    "\n",
    "print(\"\\nTop modelos:\")\n",
    "if \"ManufacturerModelName\" in df_full.columns:\n",
    "    display(df_full[\"ManufacturerModelName\"].value_counts().head(3))\n",
    "\n",
    "print(\"\\nTop SeriesDescription:\")\n",
    "if \"SeriesDescription\" in df_full.columns:\n",
    "    display(df_full[\"SeriesDescription\"].value_counts().head(3))"
   ]
  }
 ],
 "metadata": {
  "kernelspec": {
   "display_name": ".venv (3.13.2)",
   "language": "python",
   "name": "python3"
  },
  "language_info": {
   "codemirror_mode": {
    "name": "ipython",
    "version": 3
   },
   "file_extension": ".py",
   "mimetype": "text/x-python",
   "name": "python",
   "nbconvert_exporter": "python",
   "pygments_lexer": "ipython3",
   "version": "3.13.2"
  }
 },
 "nbformat": 4,
 "nbformat_minor": 5
}
