{
 "cells": [
  {
   "cell_type": "code",
   "execution_count": 1,
   "id": "06d9ac7a",
   "metadata": {},
   "outputs": [],
   "source": [
    "import pandas as pd\n",
    "import matplotlib.pyplot as plt\n",
    "import seaborn as sns\n",
    "import numpy as np\n",
    "import nibabel as nib"
   ]
  },
  {
   "cell_type": "code",
   "execution_count": 2,
   "id": "ee2e87c4",
   "metadata": {},
   "outputs": [],
   "source": [
    "plt.style.use(\"seaborn-v0_8-darkgrid\")"
   ]
  },
  {
   "cell_type": "code",
   "execution_count": 2,
   "id": "10c17ff9",
   "metadata": {},
   "outputs": [],
   "source": [
    "metadata_attributes_df = pd.read_excel('../datos/otros_labels/Metadata_Attributes.xlsx')\n",
    "train_label_summary_df = pd.read_excel('../datos/otros_labels/train_label_summary.xlsx')\n",
    "train_metadata_df = pd.read_csv('../datos/otros_labels/train_metadata.csv')\n",
    "train_reports_df = pd.read_csv('../datos/otros_labels/train_reports.csv')\n",
    "\n"
   ]
  }
 ],
 "metadata": {
  "kernelspec": {
   "display_name": ".venv (3.13.2)",
   "language": "python",
   "name": "python3"
  },
  "language_info": {
   "codemirror_mode": {
    "name": "ipython",
    "version": 3
   },
   "file_extension": ".py",
   "mimetype": "text/x-python",
   "name": "python",
   "nbconvert_exporter": "python",
   "pygments_lexer": "ipython3",
   "version": "3.13.2"
  }
 },
 "nbformat": 4,
 "nbformat_minor": 5
}
