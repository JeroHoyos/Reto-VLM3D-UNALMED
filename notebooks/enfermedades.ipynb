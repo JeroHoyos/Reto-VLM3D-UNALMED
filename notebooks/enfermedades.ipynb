{
 "cells": [
  {
   "cell_type": "markdown",
   "id": "f189135c",
   "metadata": {},
   "source": [
    "# **Análisis Exploratorio de las Etiquetas**"
   ]
  },
  {
   "cell_type": "markdown",
   "id": "26481486",
   "metadata": {},
   "source": [
    "# **Importar librerías**\n",
    "\n"
   ]
  },
  {
   "cell_type": "code",
   "execution_count": 28,
   "id": "986d1b12",
   "metadata": {},
   "outputs": [],
   "source": [
    "import pandas as pd\n",
    "import matplotlib.pyplot as plt\n",
    "import seaborn as sns\n",
    "import numpy as np\n",
    "import nibabel as nib"
   ]
  },
  {
   "cell_type": "code",
   "execution_count": 29,
   "id": "baa8f57e",
   "metadata": {},
   "outputs": [],
   "source": [
    "plt.style.use(\"seaborn-v0_8-darkgrid\")"
   ]
  },
  {
   "cell_type": "markdown",
   "id": "5ab2dffb",
   "metadata": {},
   "source": [
    "# **Limpiar el data set**"
   ]
  },
  {
   "cell_type": "markdown",
   "id": "a0455e70",
   "metadata": {},
   "source": [
    " *(Eliminar registros que no son del pecho)*"
   ]
  },
  {
   "cell_type": "code",
   "execution_count": 30,
   "id": "ed021e6d",
   "metadata": {},
   "outputs": [],
   "source": [
    "df1 = pd.read_csv(\"../datos/labels/train_predicted_labels.csv\")   \n",
    "\n",
    "with open(\"../datos/labels/no_chest_train.txt\", \"r\") as f:\n",
    "    rutas_largas = f.read().splitlines()\n",
    "nombres_largos = [ruta.split(\"/\")[-1] for ruta in rutas_largas]\n",
    "df = df1[~df1.iloc[:,0].isin(nombres_largos)].copy()"
   ]
  },
  {
   "cell_type": "code",
   "execution_count": 31,
   "id": "58e2c9ee",
   "metadata": {},
   "outputs": [
    {
     "name": "stdout",
     "output_type": "stream",
     "text": [
      "<class 'pandas.core.frame.DataFrame'>\n",
      "Index: 46397 entries, 0 to 47148\n",
      "Data columns (total 19 columns):\n",
      " #   Column                              Non-Null Count  Dtype \n",
      "---  ------                              --------------  ----- \n",
      " 0   VolumeName                          46397 non-null  object\n",
      " 1   Medical material                    46397 non-null  int64 \n",
      " 2   Arterial wall calcification         46397 non-null  int64 \n",
      " 3   Cardiomegaly                        46397 non-null  int64 \n",
      " 4   Pericardial effusion                46397 non-null  int64 \n",
      " 5   Coronary artery wall calcification  46397 non-null  int64 \n",
      " 6   Hiatal hernia                       46397 non-null  int64 \n",
      " 7   Lymphadenopathy                     46397 non-null  int64 \n",
      " 8   Emphysema                           46397 non-null  int64 \n",
      " 9   Atelectasis                         46397 non-null  int64 \n",
      " 10  Lung nodule                         46397 non-null  int64 \n",
      " 11  Lung opacity                        46397 non-null  int64 \n",
      " 12  Pulmonary fibrotic sequela          46397 non-null  int64 \n",
      " 13  Pleural effusion                    46397 non-null  int64 \n",
      " 14  Mosaic attenuation pattern          46397 non-null  int64 \n",
      " 15  Peribronchial thickening            46397 non-null  int64 \n",
      " 16  Consolidation                       46397 non-null  int64 \n",
      " 17  Bronchiectasis                      46397 non-null  int64 \n",
      " 18  Interlobular septal thickening      46397 non-null  int64 \n",
      "dtypes: int64(18), object(1)\n",
      "memory usage: 7.1+ MB\n"
     ]
    }
   ],
   "source": [
    "df.info()"
   ]
  },
  {
   "cell_type": "code",
   "execution_count": 32,
   "id": "0da7cd74",
   "metadata": {},
   "outputs": [
    {
     "data": {
      "text/html": [
       "<div>\n",
       "<style scoped>\n",
       "    .dataframe tbody tr th:only-of-type {\n",
       "        vertical-align: middle;\n",
       "    }\n",
       "\n",
       "    .dataframe tbody tr th {\n",
       "        vertical-align: top;\n",
       "    }\n",
       "\n",
       "    .dataframe thead th {\n",
       "        text-align: right;\n",
       "    }\n",
       "</style>\n",
       "<table border=\"1\" class=\"dataframe\">\n",
       "  <thead>\n",
       "    <tr style=\"text-align: right;\">\n",
       "      <th></th>\n",
       "      <th>VolumeName</th>\n",
       "      <th>Medical material</th>\n",
       "      <th>Arterial wall calcification</th>\n",
       "      <th>Cardiomegaly</th>\n",
       "      <th>Pericardial effusion</th>\n",
       "      <th>Coronary artery wall calcification</th>\n",
       "      <th>Hiatal hernia</th>\n",
       "      <th>Lymphadenopathy</th>\n",
       "      <th>Emphysema</th>\n",
       "      <th>Atelectasis</th>\n",
       "      <th>Lung nodule</th>\n",
       "      <th>Lung opacity</th>\n",
       "      <th>Pulmonary fibrotic sequela</th>\n",
       "      <th>Pleural effusion</th>\n",
       "      <th>Mosaic attenuation pattern</th>\n",
       "      <th>Peribronchial thickening</th>\n",
       "      <th>Consolidation</th>\n",
       "      <th>Bronchiectasis</th>\n",
       "      <th>Interlobular septal thickening</th>\n",
       "    </tr>\n",
       "  </thead>\n",
       "  <tbody>\n",
       "    <tr>\n",
       "      <th>0</th>\n",
       "      <td>train_1_a_1.nii.gz</td>\n",
       "      <td>0</td>\n",
       "      <td>1</td>\n",
       "      <td>0</td>\n",
       "      <td>0</td>\n",
       "      <td>0</td>\n",
       "      <td>0</td>\n",
       "      <td>0</td>\n",
       "      <td>0</td>\n",
       "      <td>1</td>\n",
       "      <td>0</td>\n",
       "      <td>1</td>\n",
       "      <td>0</td>\n",
       "      <td>0</td>\n",
       "      <td>0</td>\n",
       "      <td>1</td>\n",
       "      <td>1</td>\n",
       "      <td>0</td>\n",
       "      <td>0</td>\n",
       "    </tr>\n",
       "    <tr>\n",
       "      <th>1</th>\n",
       "      <td>train_1_a_2.nii.gz</td>\n",
       "      <td>0</td>\n",
       "      <td>1</td>\n",
       "      <td>0</td>\n",
       "      <td>0</td>\n",
       "      <td>0</td>\n",
       "      <td>0</td>\n",
       "      <td>0</td>\n",
       "      <td>0</td>\n",
       "      <td>1</td>\n",
       "      <td>0</td>\n",
       "      <td>1</td>\n",
       "      <td>0</td>\n",
       "      <td>0</td>\n",
       "      <td>0</td>\n",
       "      <td>1</td>\n",
       "      <td>1</td>\n",
       "      <td>0</td>\n",
       "      <td>0</td>\n",
       "    </tr>\n",
       "    <tr>\n",
       "      <th>2</th>\n",
       "      <td>train_2_a_1.nii.gz</td>\n",
       "      <td>0</td>\n",
       "      <td>1</td>\n",
       "      <td>0</td>\n",
       "      <td>0</td>\n",
       "      <td>0</td>\n",
       "      <td>0</td>\n",
       "      <td>0</td>\n",
       "      <td>1</td>\n",
       "      <td>1</td>\n",
       "      <td>1</td>\n",
       "      <td>0</td>\n",
       "      <td>0</td>\n",
       "      <td>0</td>\n",
       "      <td>0</td>\n",
       "      <td>1</td>\n",
       "      <td>0</td>\n",
       "      <td>0</td>\n",
       "      <td>0</td>\n",
       "    </tr>\n",
       "    <tr>\n",
       "      <th>3</th>\n",
       "      <td>train_2_a_2.nii.gz</td>\n",
       "      <td>0</td>\n",
       "      <td>1</td>\n",
       "      <td>0</td>\n",
       "      <td>0</td>\n",
       "      <td>0</td>\n",
       "      <td>0</td>\n",
       "      <td>0</td>\n",
       "      <td>1</td>\n",
       "      <td>1</td>\n",
       "      <td>1</td>\n",
       "      <td>0</td>\n",
       "      <td>0</td>\n",
       "      <td>0</td>\n",
       "      <td>0</td>\n",
       "      <td>1</td>\n",
       "      <td>0</td>\n",
       "      <td>0</td>\n",
       "      <td>0</td>\n",
       "    </tr>\n",
       "    <tr>\n",
       "      <th>4</th>\n",
       "      <td>train_3_a_1.nii.gz</td>\n",
       "      <td>0</td>\n",
       "      <td>1</td>\n",
       "      <td>1</td>\n",
       "      <td>0</td>\n",
       "      <td>1</td>\n",
       "      <td>0</td>\n",
       "      <td>1</td>\n",
       "      <td>0</td>\n",
       "      <td>0</td>\n",
       "      <td>1</td>\n",
       "      <td>1</td>\n",
       "      <td>1</td>\n",
       "      <td>0</td>\n",
       "      <td>0</td>\n",
       "      <td>1</td>\n",
       "      <td>0</td>\n",
       "      <td>1</td>\n",
       "      <td>0</td>\n",
       "    </tr>\n",
       "  </tbody>\n",
       "</table>\n",
       "</div>"
      ],
      "text/plain": [
       "           VolumeName  Medical material  Arterial wall calcification  \\\n",
       "0  train_1_a_1.nii.gz                 0                            1   \n",
       "1  train_1_a_2.nii.gz                 0                            1   \n",
       "2  train_2_a_1.nii.gz                 0                            1   \n",
       "3  train_2_a_2.nii.gz                 0                            1   \n",
       "4  train_3_a_1.nii.gz                 0                            1   \n",
       "\n",
       "   Cardiomegaly  Pericardial effusion  Coronary artery wall calcification  \\\n",
       "0             0                     0                                   0   \n",
       "1             0                     0                                   0   \n",
       "2             0                     0                                   0   \n",
       "3             0                     0                                   0   \n",
       "4             1                     0                                   1   \n",
       "\n",
       "   Hiatal hernia  Lymphadenopathy  Emphysema  Atelectasis  Lung nodule  \\\n",
       "0              0                0          0            1            0   \n",
       "1              0                0          0            1            0   \n",
       "2              0                0          1            1            1   \n",
       "3              0                0          1            1            1   \n",
       "4              0                1          0            0            1   \n",
       "\n",
       "   Lung opacity  Pulmonary fibrotic sequela  Pleural effusion  \\\n",
       "0             1                           0                 0   \n",
       "1             1                           0                 0   \n",
       "2             0                           0                 0   \n",
       "3             0                           0                 0   \n",
       "4             1                           1                 0   \n",
       "\n",
       "   Mosaic attenuation pattern  Peribronchial thickening  Consolidation  \\\n",
       "0                           0                         1              1   \n",
       "1                           0                         1              1   \n",
       "2                           0                         1              0   \n",
       "3                           0                         1              0   \n",
       "4                           0                         1              0   \n",
       "\n",
       "   Bronchiectasis  Interlobular septal thickening  \n",
       "0               0                               0  \n",
       "1               0                               0  \n",
       "2               0                               0  \n",
       "3               0                               0  \n",
       "4               1                               0  "
      ]
     },
     "execution_count": 32,
     "metadata": {},
     "output_type": "execute_result"
    }
   ],
   "source": [
    "df.head()"
   ]
  },
  {
   "cell_type": "code",
   "execution_count": 33,
   "id": "49220af8",
   "metadata": {},
   "outputs": [
    {
     "data": {
      "text/plain": [
       "Lung nodule                           21096\n",
       "Lung opacity                          17147\n",
       "Arterial wall calcification           13016\n",
       "Pulmonary fibrotic sequela            12411\n",
       "Atelectasis                           11968\n",
       "Lymphadenopathy                       11939\n",
       "Coronary artery wall calcification    11663\n",
       "Emphysema                              8996\n",
       "Consolidation                          8223\n",
       "Hiatal hernia                          6618\n",
       "Pleural effusion                       5593\n",
       "Cardiomegaly                           5025\n",
       "Peribronchial thickening               4911\n",
       "Bronchiectasis                         4691\n",
       "Interlobular septal thickening         3688\n",
       "Mosaic attenuation pattern             3487\n",
       "Pericardial effusion                   3332\n",
       "dtype: int64"
      ]
     },
     "execution_count": 33,
     "metadata": {},
     "output_type": "execute_result"
    }
   ],
   "source": [
    "disease_cols = df.columns[2:] #1 si medical material es enfermedad y 2 si no\n",
    "disease_counts = df[disease_cols].sum().sort_values(ascending=False)\n",
    "disease_counts\n"
   ]
  },
  {
   "cell_type": "code",
   "execution_count": 34,
   "id": "7b06ef05",
   "metadata": {},
   "outputs": [
    {
     "name": "stdout",
     "output_type": "stream",
     "text": [
      "Total de registros: 153,804\n"
     ]
    }
   ],
   "source": [
    "total_registros = disease_counts.sum()\n",
    "print(f\"Total de registros: {total_registros:,}\")\n"
   ]
  },
  {
   "cell_type": "markdown",
   "id": "ec8ab1fe",
   "metadata": {},
   "source": [
    "# **Análisis visual de hallazgos**"
   ]
  },
  {
   "cell_type": "markdown",
   "id": "e20b3d97",
   "metadata": {},
   "source": [
    "### **Conteo y porcentaje de hallazgos por patología**"
   ]
  },
  {
   "cell_type": "code",
   "execution_count": 35,
   "id": "9329f71d",
   "metadata": {},
   "outputs": [
    {
     "data": {
      "image/png": "[encoded data removed]",
      "text/plain": [
       "<Figure size 1000x865 with 1 Axes>"
      ]
     },
     "metadata": {},
     "output_type": "display_data"
    }
   ],
   "source": [
    "counts = disease_counts.sort_values(ascending=True)\n",
    "total_hallazgos = counts.sum()\n",
    "disease_percentages = counts / total_hallazgos * 100\n",
    "\n",
    "plt.figure(figsize=(10, 0.45*len(counts)+1), facecolor=\"white\")\n",
    "ax = plt.gca()\n",
    "ax.set_facecolor(\"white\")\n",
    "\n",
    "ax.barh(range(len(counts)), counts.values, color=\"steelblue\")\n",
    "\n",
    "m = counts.max()\n",
    "for i, (c, p) in enumerate(zip(counts.values, disease_percentages.values)):\n",
    "    ax.text(c + m*0.01, i, f\"{c:,} ({p:.1f}%)\", va='center', fontsize=9, color=\"#222\")\n",
    "\n",
    "ax.set_yticks(range(len(counts)))\n",
    "ax.set_yticklabels(counts.index, fontsize=9)\n",
    "ax.set_xlabel(\"Ocurrencias de etiquetas\")\n",
    "ax.set_title(\"Distribución relativa de hallazgos (sobre total de etiquetas)\")\n",
    "\n",
    "for spine in (\"top\",\"right\"):\n",
    "    ax.spines[spine].set_visible(False)\n",
    "\n",
    "plt.tight_layout()\n",
    "plt.show()"
   ]
  },
  {
   "cell_type": "markdown",
   "id": "dd01e59e",
   "metadata": {},
   "source": [
    "#### Nota\n",
    "La gráfica muestra la composición relativa de todas las etiquetas positivas del conjunto: cada barra indica cuántas veces se registró un hallazgo y el porcentaje entre paréntesis corresponde a su proporción sobre el total de etiquetas (no es la prevalencia de pacientes, sino la fracción de todas las anotaciones positivas)."
   ]
  },
  {
   "cell_type": "markdown",
   "id": "ca4f567d",
   "metadata": {},
   "source": [
    "### **Matriz de correlaciones de hallazgos**"
   ]
  },
  {
   "cell_type": "code",
   "execution_count": null,
   "id": "86e649e6",
   "metadata": {},
   "outputs": [
    {
     "data": {
      "image/png": "[encoded data removed]",
      "text/plain": [
       "<Figure size 1000x1000 with 2 Axes>"
      ]
     },
     "metadata": {},
     "output_type": "display_data"
    }
   ],
   "source": [
    "corr = df[disease_cols].corr()\n",
    "vals, vecs = np.linalg.eigh(corr)\n",
    "pc1 = vecs[:, vals.argmax()]\n",
    "order = np.argsort(pc1)\n",
    "corr_o = corr.iloc[order, order]\n",
    "\n",
    "mask = np.triu(np.ones_like(corr_o, dtype=bool))\n",
    "\n",
    "ann = corr_o.round(2).astype(str)\n",
    "ann[np.abs(corr_o.values) < 0.05] = \"\"\n",
    "\n",
    "plt.figure(figsize=(10,10))\n",
    "sns.heatmap(\n",
    "    corr_o,\n",
    "    mask=mask,\n",
    "    cmap=\"RdBu_r\",\n",
    "    center=0,\n",
    "    vmin=-0.25, vmax=0.25,\n",
    "    linewidths=.3,\n",
    "    annot=ann,\n",
    "    fmt=\"\",\n",
    "    cbar_kws={\"shrink\":0.6, \"label\":\"Correlación\"}\n",
    ")\n",
    "plt.title(\"Correlación entre enfermedades\")\n",
    "plt.xticks(rotation=45, ha=\"right\")\n",
    "plt.yticks(rotation=0)\n",
    "plt.tight_layout()\n",
    "plt.show()"
   ]
  },
  {
   "cell_type": "markdown",
   "id": "ab4c86c2",
   "metadata": {},
   "source": [
    "#### Nota\n",
    "\n",
    "Este mapa muestra qué tan seguido aparecen juntas dos condiciones en los mismos estudios. Cada cuadradito compara un par:\n",
    "\n",
    "Rojo: las dos suelen salir juntas más de lo esperado.\n",
    "Azul: casi no coinciden (aparecen separadas).\n",
    "Blanco o muy claro: no hay relación clara.\n",
    "La escala va de -0.25 a +0.25 (valores fuera de ese rango se “recortan” para que los colores se distingan mejor). No significa porcentaje, solo indica fuerza y dirección de la relación. No implica causa; solo refleja coincidencia en este conjunto de datos"
   ]
  },
  {
   "cell_type": "markdown",
   "id": "8a475567",
   "metadata": {},
   "source": [
    "### **Número de enfermedades por registro**"
   ]
  },
  {
   "cell_type": "code",
   "execution_count": null,
   "id": "4202c563",
   "metadata": {},
   "outputs": [
    {
     "data": {
      "image/png": "[encoded data removed]",
      "text/plain": [
       "<Figure size 1000x600 with 1 Axes>"
      ]
     },
     "metadata": {},
     "output_type": "display_data"
    }
   ],
   "source": [
    "df.loc[:, \"n_enfermedades\"] = df[disease_cols].sum(axis=1)\n",
    "\n",
    "rango = range(0, int(df[\"n_enfermedades\"].max()) + 1)\n",
    "conteo = df[\"n_enfermedades\"].value_counts().reindex(rango, fill_value=0)\n",
    "\n",
    "plt.figure(figsize=(10,6), facecolor=\"white\")\n",
    "bars = plt.bar(conteo.index, conteo.values, color=\"steelblue\", edgecolor=\"black\")\n",
    "\n",
    "plt.xlabel(\"Número de enfermedades detectadas\")\n",
    "plt.ylabel(\"Número de personas\")\n",
    "plt.title(\"Distribución de personas según cantidad de enfermedades\")\n",
    "plt.xticks(conteo.index)\n",
    "\n",
    "for bar in bars:\n",
    "    height = bar.get_height()\n",
    "    plt.text(\n",
    "        bar.get_x() + bar.get_width()/2,\n",
    "        height + 1,\n",
    "        f\"{int(height)}\",\n",
    "        ha=\"center\", va=\"bottom\", fontsize=10, fontweight=\"bold\"\n",
    "    )\n",
    "\n",
    "plt.show()"
   ]
  },
  {
   "cell_type": "markdown",
   "id": "7dcf0c3f",
   "metadata": {},
   "source": [
    "Notar que no existen registros con mas de 15 patoligías a la vez"
   ]
  },
  {
   "cell_type": "markdown",
   "id": "01070679",
   "metadata": {},
   "source": [
    "# **Tablas de enfermedades y sus metricas**"
   ]
  },
  {
   "cell_type": "code",
   "execution_count": 105,
   "id": "0b6a38d3",
   "metadata": {},
   "outputs": [
    {
     "name": "stdout",
     "output_type": "stream",
     "text": [
      "== Sanos ==\n"
     ]
    },
    {
     "data": {
      "text/html": [
       "<div>\n",
       "<style scoped>\n",
       "    .dataframe tbody tr th:only-of-type {\n",
       "        vertical-align: middle;\n",
       "    }\n",
       "\n",
       "    .dataframe tbody tr th {\n",
       "        vertical-align: top;\n",
       "    }\n",
       "\n",
       "    .dataframe thead th {\n",
       "        text-align: right;\n",
       "    }\n",
       "</style>\n",
       "<table border=\"1\" class=\"dataframe\">\n",
       "  <thead>\n",
       "    <tr style=\"text-align: right;\">\n",
       "      <th></th>\n",
       "      <th>Grupo</th>\n",
       "      <th>Total</th>\n",
       "    </tr>\n",
       "  </thead>\n",
       "  <tbody>\n",
       "    <tr>\n",
       "      <th>0</th>\n",
       "      <td>Sanos</td>\n",
       "      <td>5306</td>\n",
       "    </tr>\n",
       "  </tbody>\n",
       "</table>\n",
       "</div>"
      ],
      "text/plain": [
       "   Grupo  Total\n",
       "0  Sanos   5306"
      ]
     },
     "metadata": {},
     "output_type": "display_data"
    },
    {
     "name": "stdout",
     "output_type": "stream",
     "text": [
      "== Arterial wall calcification ==\n"
     ]
    },
    {
     "data": {
      "text/html": [
       "<div>\n",
       "<style scoped>\n",
       "    .dataframe tbody tr th:only-of-type {\n",
       "        vertical-align: middle;\n",
       "    }\n",
       "\n",
       "    .dataframe tbody tr th {\n",
       "        vertical-align: top;\n",
       "    }\n",
       "\n",
       "    .dataframe thead th {\n",
       "        text-align: right;\n",
       "    }\n",
       "</style>\n",
       "<table border=\"1\" class=\"dataframe\">\n",
       "  <thead>\n",
       "    <tr style=\"text-align: right;\">\n",
       "      <th></th>\n",
       "      <th>Grupo</th>\n",
       "      <th>Total</th>\n",
       "    </tr>\n",
       "  </thead>\n",
       "  <tbody>\n",
       "    <tr>\n",
       "      <th>0</th>\n",
       "      <td>Solo Arterial wall calcification</td>\n",
       "      <td>83</td>\n",
       "    </tr>\n",
       "    <tr>\n",
       "      <th>1</th>\n",
       "      <td>Arterial wall calcification y otras</td>\n",
       "      <td>12933</td>\n",
       "    </tr>\n",
       "    <tr>\n",
       "      <th>2</th>\n",
       "      <td>Complemento (enfermos sin Arterial wall calcif...</td>\n",
       "      <td>28075</td>\n",
       "    </tr>\n",
       "  </tbody>\n",
       "</table>\n",
       "</div>"
      ],
      "text/plain": [
       "                                               Grupo  Total\n",
       "0                   Solo Arterial wall calcification     83\n",
       "1                Arterial wall calcification y otras  12933\n",
       "2  Complemento (enfermos sin Arterial wall calcif...  28075"
      ]
     },
     "metadata": {},
     "output_type": "display_data"
    },
    {
     "name": "stdout",
     "output_type": "stream",
     "text": [
      "== Cardiomegaly ==\n"
     ]
    },
    {
     "data": {
      "text/html": [
       "<div>\n",
       "<style scoped>\n",
       "    .dataframe tbody tr th:only-of-type {\n",
       "        vertical-align: middle;\n",
       "    }\n",
       "\n",
       "    .dataframe tbody tr th {\n",
       "        vertical-align: top;\n",
       "    }\n",
       "\n",
       "    .dataframe thead th {\n",
       "        text-align: right;\n",
       "    }\n",
       "</style>\n",
       "<table border=\"1\" class=\"dataframe\">\n",
       "  <thead>\n",
       "    <tr style=\"text-align: right;\">\n",
       "      <th></th>\n",
       "      <th>Grupo</th>\n",
       "      <th>Total</th>\n",
       "    </tr>\n",
       "  </thead>\n",
       "  <tbody>\n",
       "    <tr>\n",
       "      <th>0</th>\n",
       "      <td>Solo Cardiomegaly</td>\n",
       "      <td>19</td>\n",
       "    </tr>\n",
       "    <tr>\n",
       "      <th>1</th>\n",
       "      <td>Cardiomegaly y otras</td>\n",
       "      <td>5006</td>\n",
       "    </tr>\n",
       "    <tr>\n",
       "      <th>2</th>\n",
       "      <td>Complemento (enfermos sin Cardiomegaly)</td>\n",
       "      <td>36066</td>\n",
       "    </tr>\n",
       "  </tbody>\n",
       "</table>\n",
       "</div>"
      ],
      "text/plain": [
       "                                     Grupo  Total\n",
       "0                        Solo Cardiomegaly     19\n",
       "1                     Cardiomegaly y otras   5006\n",
       "2  Complemento (enfermos sin Cardiomegaly)  36066"
      ]
     },
     "metadata": {},
     "output_type": "display_data"
    },
    {
     "name": "stdout",
     "output_type": "stream",
     "text": [
      "== Pericardial effusion ==\n"
     ]
    },
    {
     "data": {
      "text/html": [
       "<div>\n",
       "<style scoped>\n",
       "    .dataframe tbody tr th:only-of-type {\n",
       "        vertical-align: middle;\n",
       "    }\n",
       "\n",
       "    .dataframe tbody tr th {\n",
       "        vertical-align: top;\n",
       "    }\n",
       "\n",
       "    .dataframe thead th {\n",
       "        text-align: right;\n",
       "    }\n",
       "</style>\n",
       "<table border=\"1\" class=\"dataframe\">\n",
       "  <thead>\n",
       "    <tr style=\"text-align: right;\">\n",
       "      <th></th>\n",
       "      <th>Grupo</th>\n",
       "      <th>Total</th>\n",
       "    </tr>\n",
       "  </thead>\n",
       "  <tbody>\n",
       "    <tr>\n",
       "      <th>0</th>\n",
       "      <td>Solo Pericardial effusion</td>\n",
       "      <td>59</td>\n",
       "    </tr>\n",
       "    <tr>\n",
       "      <th>1</th>\n",
       "      <td>Pericardial effusion y otras</td>\n",
       "      <td>3273</td>\n",
       "    </tr>\n",
       "    <tr>\n",
       "      <th>2</th>\n",
       "      <td>Complemento (enfermos sin Pericardial effusion)</td>\n",
       "      <td>37759</td>\n",
       "    </tr>\n",
       "  </tbody>\n",
       "</table>\n",
       "</div>"
      ],
      "text/plain": [
       "                                             Grupo  Total\n",
       "0                        Solo Pericardial effusion     59\n",
       "1                     Pericardial effusion y otras   3273\n",
       "2  Complemento (enfermos sin Pericardial effusion)  37759"
      ]
     },
     "metadata": {},
     "output_type": "display_data"
    },
    {
     "name": "stdout",
     "output_type": "stream",
     "text": [
      "== Coronary artery wall calcification ==\n"
     ]
    },
    {
     "data": {
      "text/html": [
       "<div>\n",
       "<style scoped>\n",
       "    .dataframe tbody tr th:only-of-type {\n",
       "        vertical-align: middle;\n",
       "    }\n",
       "\n",
       "    .dataframe tbody tr th {\n",
       "        vertical-align: top;\n",
       "    }\n",
       "\n",
       "    .dataframe thead th {\n",
       "        text-align: right;\n",
       "    }\n",
       "</style>\n",
       "<table border=\"1\" class=\"dataframe\">\n",
       "  <thead>\n",
       "    <tr style=\"text-align: right;\">\n",
       "      <th></th>\n",
       "      <th>Grupo</th>\n",
       "      <th>Total</th>\n",
       "    </tr>\n",
       "  </thead>\n",
       "  <tbody>\n",
       "    <tr>\n",
       "      <th>0</th>\n",
       "      <td>Solo Coronary artery wall calcification</td>\n",
       "      <td>108</td>\n",
       "    </tr>\n",
       "    <tr>\n",
       "      <th>1</th>\n",
       "      <td>Coronary artery wall calcification y otras</td>\n",
       "      <td>11555</td>\n",
       "    </tr>\n",
       "    <tr>\n",
       "      <th>2</th>\n",
       "      <td>Complemento (enfermos sin Coronary artery wall...</td>\n",
       "      <td>29428</td>\n",
       "    </tr>\n",
       "  </tbody>\n",
       "</table>\n",
       "</div>"
      ],
      "text/plain": [
       "                                               Grupo  Total\n",
       "0            Solo Coronary artery wall calcification    108\n",
       "1         Coronary artery wall calcification y otras  11555\n",
       "2  Complemento (enfermos sin Coronary artery wall...  29428"
      ]
     },
     "metadata": {},
     "output_type": "display_data"
    },
    {
     "name": "stdout",
     "output_type": "stream",
     "text": [
      "== Hiatal hernia ==\n"
     ]
    },
    {
     "data": {
      "text/html": [
       "<div>\n",
       "<style scoped>\n",
       "    .dataframe tbody tr th:only-of-type {\n",
       "        vertical-align: middle;\n",
       "    }\n",
       "\n",
       "    .dataframe tbody tr th {\n",
       "        vertical-align: top;\n",
       "    }\n",
       "\n",
       "    .dataframe thead th {\n",
       "        text-align: right;\n",
       "    }\n",
       "</style>\n",
       "<table border=\"1\" class=\"dataframe\">\n",
       "  <thead>\n",
       "    <tr style=\"text-align: right;\">\n",
       "      <th></th>\n",
       "      <th>Grupo</th>\n",
       "      <th>Total</th>\n",
       "    </tr>\n",
       "  </thead>\n",
       "  <tbody>\n",
       "    <tr>\n",
       "      <th>0</th>\n",
       "      <td>Solo Hiatal hernia</td>\n",
       "      <td>184</td>\n",
       "    </tr>\n",
       "    <tr>\n",
       "      <th>1</th>\n",
       "      <td>Hiatal hernia y otras</td>\n",
       "      <td>6434</td>\n",
       "    </tr>\n",
       "    <tr>\n",
       "      <th>2</th>\n",
       "      <td>Complemento (enfermos sin Hiatal hernia)</td>\n",
       "      <td>34473</td>\n",
       "    </tr>\n",
       "  </tbody>\n",
       "</table>\n",
       "</div>"
      ],
      "text/plain": [
       "                                      Grupo  Total\n",
       "0                        Solo Hiatal hernia    184\n",
       "1                     Hiatal hernia y otras   6434\n",
       "2  Complemento (enfermos sin Hiatal hernia)  34473"
      ]
     },
     "metadata": {},
     "output_type": "display_data"
    },
    {
     "name": "stdout",
     "output_type": "stream",
     "text": [
      "== Lymphadenopathy ==\n"
     ]
    },
    {
     "data": {
      "text/html": [
       "<div>\n",
       "<style scoped>\n",
       "    .dataframe tbody tr th:only-of-type {\n",
       "        vertical-align: middle;\n",
       "    }\n",
       "\n",
       "    .dataframe tbody tr th {\n",
       "        vertical-align: top;\n",
       "    }\n",
       "\n",
       "    .dataframe thead th {\n",
       "        text-align: right;\n",
       "    }\n",
       "</style>\n",
       "<table border=\"1\" class=\"dataframe\">\n",
       "  <thead>\n",
       "    <tr style=\"text-align: right;\">\n",
       "      <th></th>\n",
       "      <th>Grupo</th>\n",
       "      <th>Total</th>\n",
       "    </tr>\n",
       "  </thead>\n",
       "  <tbody>\n",
       "    <tr>\n",
       "      <th>0</th>\n",
       "      <td>Solo Lymphadenopathy</td>\n",
       "      <td>485</td>\n",
       "    </tr>\n",
       "    <tr>\n",
       "      <th>1</th>\n",
       "      <td>Lymphadenopathy y otras</td>\n",
       "      <td>11454</td>\n",
       "    </tr>\n",
       "    <tr>\n",
       "      <th>2</th>\n",
       "      <td>Complemento (enfermos sin Lymphadenopathy)</td>\n",
       "      <td>29152</td>\n",
       "    </tr>\n",
       "  </tbody>\n",
       "</table>\n",
       "</div>"
      ],
      "text/plain": [
       "                                        Grupo  Total\n",
       "0                        Solo Lymphadenopathy    485\n",
       "1                     Lymphadenopathy y otras  11454\n",
       "2  Complemento (enfermos sin Lymphadenopathy)  29152"
      ]
     },
     "metadata": {},
     "output_type": "display_data"
    },
    {
     "name": "stdout",
     "output_type": "stream",
     "text": [
      "== Emphysema ==\n"
     ]
    },
    {
     "data": {
      "text/html": [
       "<div>\n",
       "<style scoped>\n",
       "    .dataframe tbody tr th:only-of-type {\n",
       "        vertical-align: middle;\n",
       "    }\n",
       "\n",
       "    .dataframe tbody tr th {\n",
       "        vertical-align: top;\n",
       "    }\n",
       "\n",
       "    .dataframe thead th {\n",
       "        text-align: right;\n",
       "    }\n",
       "</style>\n",
       "<table border=\"1\" class=\"dataframe\">\n",
       "  <thead>\n",
       "    <tr style=\"text-align: right;\">\n",
       "      <th></th>\n",
       "      <th>Grupo</th>\n",
       "      <th>Total</th>\n",
       "    </tr>\n",
       "  </thead>\n",
       "  <tbody>\n",
       "    <tr>\n",
       "      <th>0</th>\n",
       "      <td>Solo Emphysema</td>\n",
       "      <td>259</td>\n",
       "    </tr>\n",
       "    <tr>\n",
       "      <th>1</th>\n",
       "      <td>Emphysema y otras</td>\n",
       "      <td>8737</td>\n",
       "    </tr>\n",
       "    <tr>\n",
       "      <th>2</th>\n",
       "      <td>Complemento (enfermos sin Emphysema)</td>\n",
       "      <td>32095</td>\n",
       "    </tr>\n",
       "  </tbody>\n",
       "</table>\n",
       "</div>"
      ],
      "text/plain": [
       "                                  Grupo  Total\n",
       "0                        Solo Emphysema    259\n",
       "1                     Emphysema y otras   8737\n",
       "2  Complemento (enfermos sin Emphysema)  32095"
      ]
     },
     "metadata": {},
     "output_type": "display_data"
    },
    {
     "name": "stdout",
     "output_type": "stream",
     "text": [
      "== Atelectasis ==\n"
     ]
    },
    {
     "data": {
      "text/html": [
       "<div>\n",
       "<style scoped>\n",
       "    .dataframe tbody tr th:only-of-type {\n",
       "        vertical-align: middle;\n",
       "    }\n",
       "\n",
       "    .dataframe tbody tr th {\n",
       "        vertical-align: top;\n",
       "    }\n",
       "\n",
       "    .dataframe thead th {\n",
       "        text-align: right;\n",
       "    }\n",
       "</style>\n",
       "<table border=\"1\" class=\"dataframe\">\n",
       "  <thead>\n",
       "    <tr style=\"text-align: right;\">\n",
       "      <th></th>\n",
       "      <th>Grupo</th>\n",
       "      <th>Total</th>\n",
       "    </tr>\n",
       "  </thead>\n",
       "  <tbody>\n",
       "    <tr>\n",
       "      <th>0</th>\n",
       "      <td>Solo Atelectasis</td>\n",
       "      <td>561</td>\n",
       "    </tr>\n",
       "    <tr>\n",
       "      <th>1</th>\n",
       "      <td>Atelectasis y otras</td>\n",
       "      <td>11407</td>\n",
       "    </tr>\n",
       "    <tr>\n",
       "      <th>2</th>\n",
       "      <td>Complemento (enfermos sin Atelectasis)</td>\n",
       "      <td>29123</td>\n",
       "    </tr>\n",
       "  </tbody>\n",
       "</table>\n",
       "</div>"
      ],
      "text/plain": [
       "                                    Grupo  Total\n",
       "0                        Solo Atelectasis    561\n",
       "1                     Atelectasis y otras  11407\n",
       "2  Complemento (enfermos sin Atelectasis)  29123"
      ]
     },
     "metadata": {},
     "output_type": "display_data"
    },
    {
     "name": "stdout",
     "output_type": "stream",
     "text": [
      "== Lung nodule ==\n"
     ]
    },
    {
     "data": {
      "text/html": [
       "<div>\n",
       "<style scoped>\n",
       "    .dataframe tbody tr th:only-of-type {\n",
       "        vertical-align: middle;\n",
       "    }\n",
       "\n",
       "    .dataframe tbody tr th {\n",
       "        vertical-align: top;\n",
       "    }\n",
       "\n",
       "    .dataframe thead th {\n",
       "        text-align: right;\n",
       "    }\n",
       "</style>\n",
       "<table border=\"1\" class=\"dataframe\">\n",
       "  <thead>\n",
       "    <tr style=\"text-align: right;\">\n",
       "      <th></th>\n",
       "      <th>Grupo</th>\n",
       "      <th>Total</th>\n",
       "    </tr>\n",
       "  </thead>\n",
       "  <tbody>\n",
       "    <tr>\n",
       "      <th>0</th>\n",
       "      <td>Solo Lung nodule</td>\n",
       "      <td>3379</td>\n",
       "    </tr>\n",
       "    <tr>\n",
       "      <th>1</th>\n",
       "      <td>Lung nodule y otras</td>\n",
       "      <td>17717</td>\n",
       "    </tr>\n",
       "    <tr>\n",
       "      <th>2</th>\n",
       "      <td>Complemento (enfermos sin Lung nodule)</td>\n",
       "      <td>19995</td>\n",
       "    </tr>\n",
       "  </tbody>\n",
       "</table>\n",
       "</div>"
      ],
      "text/plain": [
       "                                    Grupo  Total\n",
       "0                        Solo Lung nodule   3379\n",
       "1                     Lung nodule y otras  17717\n",
       "2  Complemento (enfermos sin Lung nodule)  19995"
      ]
     },
     "metadata": {},
     "output_type": "display_data"
    },
    {
     "name": "stdout",
     "output_type": "stream",
     "text": [
      "== Lung opacity ==\n"
     ]
    },
    {
     "data": {
      "text/html": [
       "<div>\n",
       "<style scoped>\n",
       "    .dataframe tbody tr th:only-of-type {\n",
       "        vertical-align: middle;\n",
       "    }\n",
       "\n",
       "    .dataframe tbody tr th {\n",
       "        vertical-align: top;\n",
       "    }\n",
       "\n",
       "    .dataframe thead th {\n",
       "        text-align: right;\n",
       "    }\n",
       "</style>\n",
       "<table border=\"1\" class=\"dataframe\">\n",
       "  <thead>\n",
       "    <tr style=\"text-align: right;\">\n",
       "      <th></th>\n",
       "      <th>Grupo</th>\n",
       "      <th>Total</th>\n",
       "    </tr>\n",
       "  </thead>\n",
       "  <tbody>\n",
       "    <tr>\n",
       "      <th>0</th>\n",
       "      <td>Solo Lung opacity</td>\n",
       "      <td>1701</td>\n",
       "    </tr>\n",
       "    <tr>\n",
       "      <th>1</th>\n",
       "      <td>Lung opacity y otras</td>\n",
       "      <td>15446</td>\n",
       "    </tr>\n",
       "    <tr>\n",
       "      <th>2</th>\n",
       "      <td>Complemento (enfermos sin Lung opacity)</td>\n",
       "      <td>23944</td>\n",
       "    </tr>\n",
       "  </tbody>\n",
       "</table>\n",
       "</div>"
      ],
      "text/plain": [
       "                                     Grupo  Total\n",
       "0                        Solo Lung opacity   1701\n",
       "1                     Lung opacity y otras  15446\n",
       "2  Complemento (enfermos sin Lung opacity)  23944"
      ]
     },
     "metadata": {},
     "output_type": "display_data"
    },
    {
     "name": "stdout",
     "output_type": "stream",
     "text": [
      "== Pulmonary fibrotic sequela ==\n"
     ]
    },
    {
     "data": {
      "text/html": [
       "<div>\n",
       "<style scoped>\n",
       "    .dataframe tbody tr th:only-of-type {\n",
       "        vertical-align: middle;\n",
       "    }\n",
       "\n",
       "    .dataframe tbody tr th {\n",
       "        vertical-align: top;\n",
       "    }\n",
       "\n",
       "    .dataframe thead th {\n",
       "        text-align: right;\n",
       "    }\n",
       "</style>\n",
       "<table border=\"1\" class=\"dataframe\">\n",
       "  <thead>\n",
       "    <tr style=\"text-align: right;\">\n",
       "      <th></th>\n",
       "      <th>Grupo</th>\n",
       "      <th>Total</th>\n",
       "    </tr>\n",
       "  </thead>\n",
       "  <tbody>\n",
       "    <tr>\n",
       "      <th>0</th>\n",
       "      <td>Solo Pulmonary fibrotic sequela</td>\n",
       "      <td>884</td>\n",
       "    </tr>\n",
       "    <tr>\n",
       "      <th>1</th>\n",
       "      <td>Pulmonary fibrotic sequela y otras</td>\n",
       "      <td>11527</td>\n",
       "    </tr>\n",
       "    <tr>\n",
       "      <th>2</th>\n",
       "      <td>Complemento (enfermos sin Pulmonary fibrotic s...</td>\n",
       "      <td>28680</td>\n",
       "    </tr>\n",
       "  </tbody>\n",
       "</table>\n",
       "</div>"
      ],
      "text/plain": [
       "                                               Grupo  Total\n",
       "0                    Solo Pulmonary fibrotic sequela    884\n",
       "1                 Pulmonary fibrotic sequela y otras  11527\n",
       "2  Complemento (enfermos sin Pulmonary fibrotic s...  28680"
      ]
     },
     "metadata": {},
     "output_type": "display_data"
    },
    {
     "name": "stdout",
     "output_type": "stream",
     "text": [
      "== Pleural effusion ==\n"
     ]
    },
    {
     "data": {
      "text/html": [
       "<div>\n",
       "<style scoped>\n",
       "    .dataframe tbody tr th:only-of-type {\n",
       "        vertical-align: middle;\n",
       "    }\n",
       "\n",
       "    .dataframe tbody tr th {\n",
       "        vertical-align: top;\n",
       "    }\n",
       "\n",
       "    .dataframe thead th {\n",
       "        text-align: right;\n",
       "    }\n",
       "</style>\n",
       "<table border=\"1\" class=\"dataframe\">\n",
       "  <thead>\n",
       "    <tr style=\"text-align: right;\">\n",
       "      <th></th>\n",
       "      <th>Grupo</th>\n",
       "      <th>Total</th>\n",
       "    </tr>\n",
       "  </thead>\n",
       "  <tbody>\n",
       "    <tr>\n",
       "      <th>0</th>\n",
       "      <td>Solo Pleural effusion</td>\n",
       "      <td>40</td>\n",
       "    </tr>\n",
       "    <tr>\n",
       "      <th>1</th>\n",
       "      <td>Pleural effusion y otras</td>\n",
       "      <td>5553</td>\n",
       "    </tr>\n",
       "    <tr>\n",
       "      <th>2</th>\n",
       "      <td>Complemento (enfermos sin Pleural effusion)</td>\n",
       "      <td>35498</td>\n",
       "    </tr>\n",
       "  </tbody>\n",
       "</table>\n",
       "</div>"
      ],
      "text/plain": [
       "                                         Grupo  Total\n",
       "0                        Solo Pleural effusion     40\n",
       "1                     Pleural effusion y otras   5553\n",
       "2  Complemento (enfermos sin Pleural effusion)  35498"
      ]
     },
     "metadata": {},
     "output_type": "display_data"
    },
    {
     "name": "stdout",
     "output_type": "stream",
     "text": [
      "== Mosaic attenuation pattern ==\n"
     ]
    },
    {
     "data": {
      "text/html": [
       "<div>\n",
       "<style scoped>\n",
       "    .dataframe tbody tr th:only-of-type {\n",
       "        vertical-align: middle;\n",
       "    }\n",
       "\n",
       "    .dataframe tbody tr th {\n",
       "        vertical-align: top;\n",
       "    }\n",
       "\n",
       "    .dataframe thead th {\n",
       "        text-align: right;\n",
       "    }\n",
       "</style>\n",
       "<table border=\"1\" class=\"dataframe\">\n",
       "  <thead>\n",
       "    <tr style=\"text-align: right;\">\n",
       "      <th></th>\n",
       "      <th>Grupo</th>\n",
       "      <th>Total</th>\n",
       "    </tr>\n",
       "  </thead>\n",
       "  <tbody>\n",
       "    <tr>\n",
       "      <th>0</th>\n",
       "      <td>Solo Mosaic attenuation pattern</td>\n",
       "      <td>75</td>\n",
       "    </tr>\n",
       "    <tr>\n",
       "      <th>1</th>\n",
       "      <td>Mosaic attenuation pattern y otras</td>\n",
       "      <td>3412</td>\n",
       "    </tr>\n",
       "    <tr>\n",
       "      <th>2</th>\n",
       "      <td>Complemento (enfermos sin Mosaic attenuation p...</td>\n",
       "      <td>37604</td>\n",
       "    </tr>\n",
       "  </tbody>\n",
       "</table>\n",
       "</div>"
      ],
      "text/plain": [
       "                                               Grupo  Total\n",
       "0                    Solo Mosaic attenuation pattern     75\n",
       "1                 Mosaic attenuation pattern y otras   3412\n",
       "2  Complemento (enfermos sin Mosaic attenuation p...  37604"
      ]
     },
     "metadata": {},
     "output_type": "display_data"
    },
    {
     "name": "stdout",
     "output_type": "stream",
     "text": [
      "== Peribronchial thickening ==\n"
     ]
    },
    {
     "data": {
      "text/html": [
       "<div>\n",
       "<style scoped>\n",
       "    .dataframe tbody tr th:only-of-type {\n",
       "        vertical-align: middle;\n",
       "    }\n",
       "\n",
       "    .dataframe tbody tr th {\n",
       "        vertical-align: top;\n",
       "    }\n",
       "\n",
       "    .dataframe thead th {\n",
       "        text-align: right;\n",
       "    }\n",
       "</style>\n",
       "<table border=\"1\" class=\"dataframe\">\n",
       "  <thead>\n",
       "    <tr style=\"text-align: right;\">\n",
       "      <th></th>\n",
       "      <th>Grupo</th>\n",
       "      <th>Total</th>\n",
       "    </tr>\n",
       "  </thead>\n",
       "  <tbody>\n",
       "    <tr>\n",
       "      <th>0</th>\n",
       "      <td>Solo Peribronchial thickening</td>\n",
       "      <td>72</td>\n",
       "    </tr>\n",
       "    <tr>\n",
       "      <th>1</th>\n",
       "      <td>Peribronchial thickening y otras</td>\n",
       "      <td>4839</td>\n",
       "    </tr>\n",
       "    <tr>\n",
       "      <th>2</th>\n",
       "      <td>Complemento (enfermos sin Peribronchial thicke...</td>\n",
       "      <td>36180</td>\n",
       "    </tr>\n",
       "  </tbody>\n",
       "</table>\n",
       "</div>"
      ],
      "text/plain": [
       "                                               Grupo  Total\n",
       "0                      Solo Peribronchial thickening     72\n",
       "1                   Peribronchial thickening y otras   4839\n",
       "2  Complemento (enfermos sin Peribronchial thicke...  36180"
      ]
     },
     "metadata": {},
     "output_type": "display_data"
    },
    {
     "name": "stdout",
     "output_type": "stream",
     "text": [
      "== Consolidation ==\n"
     ]
    },
    {
     "data": {
      "text/html": [
       "<div>\n",
       "<style scoped>\n",
       "    .dataframe tbody tr th:only-of-type {\n",
       "        vertical-align: middle;\n",
       "    }\n",
       "\n",
       "    .dataframe tbody tr th {\n",
       "        vertical-align: top;\n",
       "    }\n",
       "\n",
       "    .dataframe thead th {\n",
       "        text-align: right;\n",
       "    }\n",
       "</style>\n",
       "<table border=\"1\" class=\"dataframe\">\n",
       "  <thead>\n",
       "    <tr style=\"text-align: right;\">\n",
       "      <th></th>\n",
       "      <th>Grupo</th>\n",
       "      <th>Total</th>\n",
       "    </tr>\n",
       "  </thead>\n",
       "  <tbody>\n",
       "    <tr>\n",
       "      <th>0</th>\n",
       "      <td>Solo Consolidation</td>\n",
       "      <td>159</td>\n",
       "    </tr>\n",
       "    <tr>\n",
       "      <th>1</th>\n",
       "      <td>Consolidation y otras</td>\n",
       "      <td>8064</td>\n",
       "    </tr>\n",
       "    <tr>\n",
       "      <th>2</th>\n",
       "      <td>Complemento (enfermos sin Consolidation)</td>\n",
       "      <td>32868</td>\n",
       "    </tr>\n",
       "  </tbody>\n",
       "</table>\n",
       "</div>"
      ],
      "text/plain": [
       "                                      Grupo  Total\n",
       "0                        Solo Consolidation    159\n",
       "1                     Consolidation y otras   8064\n",
       "2  Complemento (enfermos sin Consolidation)  32868"
      ]
     },
     "metadata": {},
     "output_type": "display_data"
    },
    {
     "name": "stdout",
     "output_type": "stream",
     "text": [
      "== Bronchiectasis ==\n"
     ]
    },
    {
     "data": {
      "text/html": [
       "<div>\n",
       "<style scoped>\n",
       "    .dataframe tbody tr th:only-of-type {\n",
       "        vertical-align: middle;\n",
       "    }\n",
       "\n",
       "    .dataframe tbody tr th {\n",
       "        vertical-align: top;\n",
       "    }\n",
       "\n",
       "    .dataframe thead th {\n",
       "        text-align: right;\n",
       "    }\n",
       "</style>\n",
       "<table border=\"1\" class=\"dataframe\">\n",
       "  <thead>\n",
       "    <tr style=\"text-align: right;\">\n",
       "      <th></th>\n",
       "      <th>Grupo</th>\n",
       "      <th>Total</th>\n",
       "    </tr>\n",
       "  </thead>\n",
       "  <tbody>\n",
       "    <tr>\n",
       "      <th>0</th>\n",
       "      <td>Solo Bronchiectasis</td>\n",
       "      <td>102</td>\n",
       "    </tr>\n",
       "    <tr>\n",
       "      <th>1</th>\n",
       "      <td>Bronchiectasis y otras</td>\n",
       "      <td>4589</td>\n",
       "    </tr>\n",
       "    <tr>\n",
       "      <th>2</th>\n",
       "      <td>Complemento (enfermos sin Bronchiectasis)</td>\n",
       "      <td>36400</td>\n",
       "    </tr>\n",
       "  </tbody>\n",
       "</table>\n",
       "</div>"
      ],
      "text/plain": [
       "                                       Grupo  Total\n",
       "0                        Solo Bronchiectasis    102\n",
       "1                     Bronchiectasis y otras   4589\n",
       "2  Complemento (enfermos sin Bronchiectasis)  36400"
      ]
     },
     "metadata": {},
     "output_type": "display_data"
    },
    {
     "name": "stdout",
     "output_type": "stream",
     "text": [
      "== Interlobular septal thickening ==\n"
     ]
    },
    {
     "data": {
      "text/html": [
       "<div>\n",
       "<style scoped>\n",
       "    .dataframe tbody tr th:only-of-type {\n",
       "        vertical-align: middle;\n",
       "    }\n",
       "\n",
       "    .dataframe tbody tr th {\n",
       "        vertical-align: top;\n",
       "    }\n",
       "\n",
       "    .dataframe thead th {\n",
       "        text-align: right;\n",
       "    }\n",
       "</style>\n",
       "<table border=\"1\" class=\"dataframe\">\n",
       "  <thead>\n",
       "    <tr style=\"text-align: right;\">\n",
       "      <th></th>\n",
       "      <th>Grupo</th>\n",
       "      <th>Total</th>\n",
       "    </tr>\n",
       "  </thead>\n",
       "  <tbody>\n",
       "    <tr>\n",
       "      <th>0</th>\n",
       "      <td>Solo Interlobular septal thickening</td>\n",
       "      <td>2</td>\n",
       "    </tr>\n",
       "    <tr>\n",
       "      <th>1</th>\n",
       "      <td>Interlobular septal thickening y otras</td>\n",
       "      <td>3686</td>\n",
       "    </tr>\n",
       "    <tr>\n",
       "      <th>2</th>\n",
       "      <td>Complemento (enfermos sin Interlobular septal ...</td>\n",
       "      <td>37403</td>\n",
       "    </tr>\n",
       "  </tbody>\n",
       "</table>\n",
       "</div>"
      ],
      "text/plain": [
       "                                               Grupo  Total\n",
       "0                Solo Interlobular septal thickening      2\n",
       "1             Interlobular septal thickening y otras   3686\n",
       "2  Complemento (enfermos sin Interlobular septal ...  37403"
      ]
     },
     "metadata": {},
     "output_type": "display_data"
    }
   ],
   "source": [
    "def tablas_por_enfermedad(df, id_col=\"VolumeName\", cols=None):\n",
    "    is_bin = lambda s: set(pd.Series(s).dropna().unique()) <= {0, 1}\n",
    "    labels = [c for c in df.columns if c != id_col and is_bin(df[c])]\n",
    "    if cols: labels = [c for c in labels if c in cols]\n",
    "\n",
    "    cnt_all = df[labels].sum(axis=1)\n",
    "\n",
    "    print(\"== Sanos ==\")\n",
    "    sanos = pd.DataFrame([[\"Sanos\", int((cnt_all == 0).sum())]], columns=[\"Grupo\",\"Total\"])\n",
    "    display(sanos)\n",
    "\n",
    "    for x in labels:\n",
    "        cnt_others = cnt_all - df[x]\n",
    "        tabla = pd.DataFrame([\n",
    "            [f\"Solo {x}\", int(((df[x]==1) & (cnt_others==0)).sum())],\n",
    "            [f\"{x} y otras\", int(((df[x]==1) & (cnt_others>0)).sum())],\n",
    "            [f\"Complemento (enfermos sin {x})\", int(((df[x]==0) & (cnt_all>0)).sum())],\n",
    "        ], columns=[\"Grupo\",\"Total\"])\n",
    "        print(f\"== {x} ==\")\n",
    "        display(tabla)\n",
    "\n",
    "\n",
    "enfermedades = [\n",
    "    \"Lung nodule\", \"Lung opacity\", \"Arterial wall calcification\",\n",
    "    \"Pulmonary fibrotic sequela\", \"Atelectasis\", \"Lymphadenopathy\",\n",
    "    \"Coronary artery wall calcification\", \"Emphysema\", \"Consolidation\",\n",
    "    \"Hiatal hernia\", \"Pleural effusion\", \"Cardiomegaly\",\n",
    "    \"Peribronchial thickening\", \"Bronchiectasis\",\n",
    "    \"Interlobular septal thickening\", \"Mosaic attenuation pattern\",\n",
    "    \"Pericardial effusion\",\n",
    "]\n",
    "tablas = tablas_por_enfermedad(df, cols=enfermedades)"
   ]
  },
  {
   "cell_type": "markdown",
   "id": "ada9188f",
   "metadata": {},
   "source": [
    "# **Afecciones torácicas**"
   ]
  },
  {
   "cell_type": "markdown",
   "id": "3ff008cf",
   "metadata": {},
   "source": [
    "## 🫀 **Cardiovasculares**"
   ]
  },
  {
   "cell_type": "markdown",
   "id": "2a5418f3",
   "metadata": {},
   "source": [
    "### **Arterial wall calcification** (Calcificación de la pared arterial)\n",
    "\n",
    "**¿Qué es?** Depósitos de calcio en la pared arterial (frecuente en aorta, coronarias y arterias periféricas).\n",
    "\n",
    "**Causas:** Aterosclerosis asociada a envejecimiento y factores de riesgo: diabetes mellitus, enfermedad renal crónica, hipertensión, dislipidemia, tabaquismo e inflamación crónica.\n",
    "\n",
    "**Significado:** Indicador de aterosclerosis, rigidez arterial y degeneración vascular crónica. \n",
    "\n",
    "**En CT:** Focos o líneas hiperdensas adheridas a la pared (visibles sin contraste). \n",
    "\n",
    "**Relevancia:** Marcador de riesgo cardiovascular y posible dificultad técnica en procedimientos.  "
   ]
  },
  {
   "cell_type": "code",
   "execution_count": 38,
   "id": "c7d77ef5",
   "metadata": {},
   "outputs": [
    {
     "name": "stdout",
     "output_type": "stream",
     "text": [
      "Arterial wall calcification: 13,016 registros (8.46%).\n"
     ]
    }
   ],
   "source": [
    "cond = \"Arterial wall calcification\"\n",
    "print(f\"{cond}: {disease_counts[cond]:,} registros ({disease_percentages[cond]:.2f}%).\")"
   ]
  },
  {
   "cell_type": "markdown",
   "id": "df4f7e85",
   "metadata": {},
   "source": [
    "### **Coronary artery wall calcification** (Calcificación de la pared arterial coronaria)\n",
    "\n",
    "**¿Qué es?** Depósitos de calcio en la pared de las arterias coronarias.\n",
    "\n",
    "**Causas:** Aterosclerosis relacionada con envejecimiento y factores de riesgo cardiovascular: diabetes mellitus, enfermedad renal crónica (alteración calcio-fosfato), hipertensión, dislipidemia, tabaquismo e inflamación crónica.\n",
    "\n",
    "**Significado:** Indicador de aterosclerosis coronaria, rigidez arterial y carga aterosclerótica total.\n",
    "\n",
    "**En CT:** Se visualiza como focos o líneas hiperdensas en la pared coronaria (sin contraste). Se cuantifica con el Agatston score.\n",
    "\n",
    "**Relevancia:** Marcador de riesgo cardiovascular mayor, predictor de eventos coronarios (infarto de miocardio), y útil en estratificación de riesgo para prevención."
   ]
  },
  {
   "cell_type": "code",
   "execution_count": 39,
   "id": "5fdfe445",
   "metadata": {},
   "outputs": [
    {
     "name": "stdout",
     "output_type": "stream",
     "text": [
      "Coronary artery wall calcification: 11,663 registros (7.58%).\n"
     ]
    }
   ],
   "source": [
    "cond = \"Coronary artery wall calcification\"\n",
    "print(f\"{cond}: {disease_counts[cond]:,} registros ({disease_percentages[cond]:.2f}%).\")"
   ]
  },
  {
   "cell_type": "markdown",
   "id": "b9b937ea",
   "metadata": {},
   "source": [
    "### **Cardiomegaly** (Cardiomegalia)\n",
    "\n",
    "**¿Qué es?** Aumento del tamaño global del corazón o de sus cavidades, visible en estudios de imagen.\n",
    "\n",
    "**Causas:** Hipertensión arterial crónica, cardiopatía isquémica, miocardiopatías (dilatada, hipertrófica, restrictiva), valvulopatías (estenosis o insuficiencia aórtica/mitral), enfermedad pericárdica (derrame), anemia crónica, alteraciones tiroideas, alcoholismo.\n",
    "\n",
    "**Significado:** Indica sobrecarga de presión o volumen, remodelado cardíaco y riesgo de insuficiencia cardíaca.\n",
    "\n",
    "**En CT:** Corazón de tamaño aumentado, con diámetros de cavidades dilatados o masa miocárdica incrementada. En Rx de tórax: índice cardiotorácico > 0.5.\n",
    "\n",
    "**Relevancia:** Marcador de insuficiencia cardíaca, riesgo de arritmias y predictor de mal pronóstico cardiovascular."
   ]
  },
  {
   "cell_type": "code",
   "execution_count": 40,
   "id": "0dc8b695",
   "metadata": {},
   "outputs": [
    {
     "name": "stdout",
     "output_type": "stream",
     "text": [
      "Cardiomegaly: 5,025 registros (3.27%).\n"
     ]
    }
   ],
   "source": [
    "cond = \"Cardiomegaly\"\n",
    "print(f\"{cond}: {disease_counts[cond]:,} registros ({disease_percentages[cond]:.2f}%).\")"
   ]
  },
  {
   "cell_type": "markdown",
   "id": "40e773b9",
   "metadata": {},
   "source": [
    "### **Pericardial effusion** (Derrame pericárdico)\n",
    "\n",
    "**¿Qué es?** Acumulación anormal de líquido en el espacio pericárdico.\n",
    "\n",
    "**Causas:** Infecciones (virus, bacterias, tuberculosis), neoplasias, insuficiencia cardíaca, insuficiencia renal (uremia), enfermedades autoinmunes (lupus, artritis reumatoide), traumatismos, postquirúrgico, hipotiroidismo, idiopático.\n",
    "\n",
    "**Significado:** Indica inflamación, lesión o compromiso sistémico; puede evolucionar a taponamiento cardíaco si el volumen es significativo o de rápida acumulación.\n",
    "\n",
    "**En CT:** Engrosamiento aparente del espacio pericárdico con líquido hipodenso que rodea al corazón; en ecocardiografía se confirma y cuantifica.\n",
    "\n",
    "**Relevancia:** Puede comprometer el llenado cardíaco (taponamiento), generar inestabilidad hemodinámica y requerir drenaje (pericardiocentesis)."
   ]
  },
  {
   "cell_type": "code",
   "execution_count": 41,
   "id": "78d92679",
   "metadata": {},
   "outputs": [
    {
     "name": "stdout",
     "output_type": "stream",
     "text": [
      "Pericardial effusion: 3,332 registros (2.17%).\n"
     ]
    }
   ],
   "source": [
    "cond = \"Pericardial effusion\"\n",
    "print(f\"{cond}: {disease_counts[cond]:,} registros ({disease_percentages[cond]:.2f}%).\")"
   ]
  },
  {
   "cell_type": "markdown",
   "id": "d193f201",
   "metadata": {},
   "source": [
    "## 🫁 **Pulmonares**"
   ]
  },
  {
   "cell_type": "markdown",
   "id": "67e36fa3",
   "metadata": {},
   "source": [
    "\n",
    "### **Emphysema** (Efisema pulmonar)\n",
    "\n",
    "**¿Qué es?** Enfermedad pulmonar caracterizada por la destrucción irreversible de las paredes alveolares y dilatación anormal de los espacios aéreos distales.\n",
    "\n",
    "**Causas:** Principalmente tabaquismo; también déficit de alfa-1 antitripsina, exposición a biomasa, contaminación ambiental y envejecimiento pulmonar acelerado.\n",
    "\n",
    "**Significado:** Indica daño crónico de la arquitectura pulmonar con pérdida de la elasticidad, atrapamiento aéreo y alteración del intercambio gaseoso.\n",
    "\n",
    "**En CT:** Áreas de baja atenuación sin paredes visibles (“black holes”), hiperinflación, disminución del calibre vascular y bullas enfisematosas.\n",
    "\n",
    "**Relevancia:** Componente central de la EPOC, causa disnea progresiva, deterioro funcional y aumento de la morbimortalidad respiratoria y cardiovascular."
   ]
  },
  {
   "cell_type": "code",
   "execution_count": 42,
   "id": "862d5903",
   "metadata": {},
   "outputs": [
    {
     "name": "stdout",
     "output_type": "stream",
     "text": [
      "Emphysema: 8,996 registros (5.85%).\n"
     ]
    }
   ],
   "source": [
    "cond = \"Emphysema\"\n",
    "print(f\"{cond}: {disease_counts[cond]:,} registros ({disease_percentages[cond]:.2f}%).\")"
   ]
  },
  {
   "cell_type": "markdown",
   "id": "e1012cc6",
   "metadata": {},
   "source": [
    "\n",
    "### **Atelectasis** (Atelectasia)\n",
    "\n",
    "**¿Qué es?** Colapso parcial o completo del parénquima pulmonar por pérdida de aire en los alvéolos.\n",
    "\n",
    "**Causas:** Obstrucción bronquial (tapones de moco, cuerpos extraños, tumores), compresión extrínseca (derrame pleural, neumotórax, masas), hipoventilación postoperatoria, fibrosis pulmonar.\n",
    "\n",
    "**Significado:** Indica pérdida de volumen pulmonar y compromiso en la ventilación, puede ser reversible si se trata la causa.\n",
    "\n",
    "**En CT:** Áreas de aumento de densidad con retracción de estructuras adyacentes (desplazamiento de cisuras, bronquios, vasos), reducción del volumen pulmonar afectado; en Rx se ve opacidad con signos de pérdida de volumen.\n",
    "\n",
    "**Relevancia:** Puede causar hipoxemia, predisponer a infecciones y complicar procedimientos; hallazgo común en pacientes hospitalizados y postquirúrgicos."
   ]
  },
  {
   "cell_type": "code",
   "execution_count": 43,
   "id": "8633af6c",
   "metadata": {},
   "outputs": [
    {
     "name": "stdout",
     "output_type": "stream",
     "text": [
      "Atelectasis: 11,968 registros (7.78%).\n"
     ]
    }
   ],
   "source": [
    "cond = \"Atelectasis\"\n",
    "print(f\"{cond}: {disease_counts[cond]:,} registros ({disease_percentages[cond]:.2f}%).\")"
   ]
  },
  {
   "cell_type": "markdown",
   "id": "a78364c7",
   "metadata": {},
   "source": [
    "### **Lung nodule** (Nódulo pulmonar)\n",
    "\n",
    "**¿Qué es?** Lesión redondeada u ovalada en el parénquima pulmonar, de ≤3 cm de diámetro, rodeada por pulmón normal.\n",
    "\n",
    "**Causas:** Infecciones (tuberculosis, histoplasmosis, otras micosis), lesiones benignas (hamartomas, malformaciones vasculares), procesos inflamatorios (sarcoidosis, neumonía organizada) y neoplasias (carcinoma broncogénico, metástasis, linfoma).\n",
    "\n",
    "**Significado:** Puede ser hallazgo incidental o manifestación de enfermedad infecciosa, inflamatoria o neoplásica; requiere valoración de riesgo.\n",
    "\n",
    "**En CT:** Nódulo sólido, sub-sólido o en vidrio esmerilado; se evalúan bordes, densidad, calcificación, tamaño y crecimiento en controles seriados.\n",
    "\n",
    "**Relevancia:** La principal preocupación es descartar malignidad; su detección y seguimiento son clave en la prevención y diagnóstico temprano de cáncer de pulmón.\n",
    "\n"
   ]
  },
  {
   "cell_type": "code",
   "execution_count": 44,
   "id": "5f495417",
   "metadata": {},
   "outputs": [
    {
     "name": "stdout",
     "output_type": "stream",
     "text": [
      "Lung nodule: 21,096 registros (13.72%).\n"
     ]
    }
   ],
   "source": [
    "cond = \"Lung nodule\"\n",
    "print(f\"{cond}: {disease_counts[cond]:,} registros ({disease_percentages[cond]:.2f}%).\")"
   ]
  },
  {
   "cell_type": "markdown",
   "id": "22e0e0de",
   "metadata": {},
   "source": [
    "### **Lung opacity** (Opacidad pulmonar)\n",
    "\n",
    "**¿Qué es?** Área de aumento en la atenuación del parénquima pulmonar que reduce la visualización de los vasos y estructuras adyacentes.\n",
    "\n",
    "**Causas:** Procesos infecciosos (neumonía bacteriana, viral, micótica, tuberculosis), inflamatorios (neumonitis, sarcoidosis), hemorrágicos (hemorragia alveolar), neoplásicos (adenocarcinoma, linfoma, metástasis) y ocupación alveolar por líquido (edema pulmonar, aspiración).\n",
    "\n",
    "**Significado:** Refleja pérdida de la aireación pulmonar y puede ser transitoria o persistente según la etiología.\n",
    "\n",
    "**En CT:** Se observa como consolidación, vidrio esmerilado o patrón mixto; se evalúa extensión, distribución y asociación con otras lesiones.\n",
    "\n",
    "**Relevancia:** Requiere correlación clínica y seguimiento, ya que abarca desde infecciones benignas hasta neoplasias malignas."
   ]
  },
  {
   "cell_type": "code",
   "execution_count": 45,
   "id": "209a6d62",
   "metadata": {},
   "outputs": [
    {
     "name": "stdout",
     "output_type": "stream",
     "text": [
      "Lung opacity: 17,147 registros (11.15%).\n"
     ]
    }
   ],
   "source": [
    "cond = \"Lung opacity\"\n",
    "print(f\"{cond}: {disease_counts[cond]:,} registros ({disease_percentages[cond]:.2f}%).\")"
   ]
  },
  {
   "cell_type": "markdown",
   "id": "b02ea5f2",
   "metadata": {},
   "source": [
    "### **Pulmonary fibrotic sequela** (Secuela fibrótica pulmonar)\n",
    "\n",
    "**¿Qué es?** Cambios fibróticos residuales en el parénquima pulmonar tras procesos inflamatorios, infecciosos o lesivos previos, caracterizados por cicatrización y distorsión de la arquitectura pulmonar.\n",
    "\n",
    "**Causas:** Secuelas de neumonías graves (incluyendo tuberculosis), infecciones micóticas, exposición a polvos inorgánicos (neumoconiosis), daño pulmonar por radiación, enfermedades autoinmunes (artritis reumatoide, esclerosis sistémica) y como resultado de síndrome de distrés respiratorio agudo o COVID-19.\n",
    "\n",
    "**Significado:** Indican daño pulmonar crónico e irreversible con pérdida de la elasticidad y disminución de la capacidad respiratoria.\n",
    "\n",
    "**En CT:** Se observan reticulación, bronquiectasias por tracción, engrosamiento septal y patrón en panal de abeja en áreas avanzadas.\n",
    "\n",
    "**Relevancia:** Requieren diferenciación de fibrosis activa vs. secuela estable; tienen implicación pronóstica y funcional en la enfermedad pulmonar."
   ]
  },
  {
   "cell_type": "code",
   "execution_count": 46,
   "id": "bf45e3a7",
   "metadata": {},
   "outputs": [
    {
     "name": "stdout",
     "output_type": "stream",
     "text": [
      "Pulmonary fibrotic sequela: 12,411 registros (8.07%).\n"
     ]
    }
   ],
   "source": [
    "cond = \"Pulmonary fibrotic sequela\"\n",
    "print(f\"{cond}: {disease_counts[cond]:,} registros ({disease_percentages[cond]:.2f}%).\")"
   ]
  },
  {
   "cell_type": "markdown",
   "id": "6e07cfd4",
   "metadata": {},
   "source": [
    "### **Mosaic attenuation pattern** (Patrón de atenuacion en mosaico)\n",
    "\n",
    "**¿Qué es?** Alteración heterogénea de la atenuación pulmonar en la tomografía, que se manifiesta como regiones adyacentes de parénquima con diferente densidad.\n",
    "\n",
    "**Causas:** Puede deberse a tres grandes mecanismos: enfermedades de la vía aérea (bronquiolitis, asma, bronquiolitis obliterante), alteraciones vasculares (hipertensión pulmonar crónica, tromboembolismo pulmonar crónico) o enfermedades parenquimatosas (neumonías intersticiales, neumonía en organización).\n",
    "\n",
    "**Significado:** Refleja un proceso subyacente que produce distribución desigual del flujo de aire o sangre, o infiltración del parénquima.\n",
    "\n",
    "**En CT:** Se observan áreas hipodensas (hipoatenuadas, atrapamiento aéreo) junto a zonas hiperdensas (hiperatenuadas, perfusión aumentada o infiltración). El uso de expiración en la TC ayuda a identificar atrapamiento aéreo.\n",
    "\n",
    "**Relevancia:** Es un hallazgo inespecífico que requiere correlación clínica y funcional para distinguir entre causas de origen vascular, bronquiolar o parenquimatoso."
   ]
  },
  {
   "cell_type": "code",
   "execution_count": 47,
   "id": "7b3aacf4",
   "metadata": {},
   "outputs": [
    {
     "name": "stdout",
     "output_type": "stream",
     "text": [
      "Mosaic attenuation pattern: 3,487 registros (2.27%).\n"
     ]
    }
   ],
   "source": [
    "cond = \"Mosaic attenuation pattern\"\n",
    "print(f\"{cond}: {disease_counts[cond]:,} registros ({disease_percentages[cond]:.2f}%).\")"
   ]
  },
  {
   "cell_type": "markdown",
   "id": "1700943d",
   "metadata": {},
   "source": [
    "### **Peribronchial thickening** (Engrosamiento peribronquial)\n",
    "\n",
    "**¿Qué es?** Engrosamiento de las paredes bronquiales y del tejido que rodea a los bronquios, visible en estudios de imagen.\n",
    "\n",
    "**Causas:** Asociado principalmente a inflamación e infección (bronquitis aguda, bronquitis crónica, bronquiolitis), asma, fibrosis quística, insuficiencia cardíaca congestiva y enfermedades intersticiales.\n",
    "\n",
    "**Significado:** Indica afectación inflamatoria, infecciosa o congestiva de la vía aérea, y puede ser signo de enfermedad pulmonar obstructiva crónica (EPOC) o sobrecarga hídrica.\n",
    "\n",
    "**En CT:** Se observa como un engrosamiento de las paredes bronquiales, con apariencia de “signo del anillo” (bronquio engrosado en corte transversal) o “signo de las vías aéreas paralelas” en cortes longitudinales.\n",
    "\n",
    "**Relevancia:** Es un hallazgo inespecífico pero útil para sugerir procesos inflamatorios, infecciosos o congestivos, ayudando en la diferenciación entre causas pulmonares y cardíacas."
   ]
  },
  {
   "cell_type": "code",
   "execution_count": 48,
   "id": "373d9a5c",
   "metadata": {},
   "outputs": [
    {
     "name": "stdout",
     "output_type": "stream",
     "text": [
      "Peribronchial thickening: 4,911 registros (3.19%).\n"
     ]
    }
   ],
   "source": [
    "cond = \"Peribronchial thickening\"\n",
    "print(f\"{cond}: {disease_counts[cond]:,} registros ({disease_percentages[cond]:.2f}%).\")"
   ]
  },
  {
   "cell_type": "markdown",
   "id": "c083e406",
   "metadata": {},
   "source": [
    "### **Consolidation** (Cosolidación pulmobar)\n",
    "\n",
    "**¿Qué es?** Sustitución del aire alveolar por líquido, células inflamatorias, sangre, proteínas o tejido, lo que provoca aumento de la densidad pulmonar.\n",
    "\n",
    "**Causas:** La más común es la neumonía, pero también puede deberse a edema pulmonar, hemorragia alveolar, aspiración, enfermedades intersticiales, neoplasias y síndrome de distrés respiratorio agudo (SDRA).\n",
    "\n",
    "**Significado:** Indica ocupación de los espacios alveolares y alteración del intercambio gaseoso; suele reflejar un proceso infeccioso, inflamatorio o hemorrágico.\n",
    "\n",
    "**En CT:** Se observa como áreas de aumento de densidad que borran la visualización de vasos y paredes bronquiales, aunque pueden verse broncogramas aéreos (bronquios llenos de aire en medio de la consolidación).\n",
    "\n",
    "**Relevancia:** Hallazgo clave en el diagnóstico diferencial de enfermedades agudas y crónicas; orienta principalmente hacia infección (neumonía), pero también puede señalar otras patologías graves como hemorragia o edema."
   ]
  },
  {
   "cell_type": "code",
   "execution_count": 49,
   "id": "475c1ecf",
   "metadata": {},
   "outputs": [
    {
     "name": "stdout",
     "output_type": "stream",
     "text": [
      "Consolidation: 8,223 registros (5.35%).\n"
     ]
    }
   ],
   "source": [
    "cond = \"Consolidation\"\n",
    "print(f\"{cond}: {disease_counts[cond]:,} registros ({disease_percentages[cond]:.2f}%).\")"
   ]
  },
  {
   "cell_type": "markdown",
   "id": "54ec553e",
   "metadata": {},
   "source": [
    "### **Bronchiectasis** (Bronquiectasia)\n",
    "\n",
    "**¿Qué es?** Dilatación anormal e irreversible de los bronquios debida a destrucción de su pared.\n",
    "\n",
    "**Causas:** Infecciones respiratorias recurrentes, fibrosis quística, bronquitis crónica, tuberculosis, inmunodeficiencias, obstrucción bronquial, enfermedades autoinmunes y exposición prolongada a irritantes.\n",
    "\n",
    "**Significado:** Refleja daño estructural pulmonar crónico con predisposición a infecciones de repetición, tos crónica y producción excesiva de esputo.\n",
    "\n",
    "**En CT:** Se observan bronquios dilatados con luz mayor que el vaso acompañante (“signo del anillo de sello”), falta de estrechamiento progresivo de los bronquios y engrosamiento de sus paredes.\n",
    "\n",
    "**Relevancia:** Hallazgo de enfermedad pulmonar crónica con implicaciones en calidad de vida, riesgo de exacerbaciones infecciosas y progresión a insuficiencia respiratoria."
   ]
  },
  {
   "cell_type": "code",
   "execution_count": 50,
   "id": "f157ab16",
   "metadata": {},
   "outputs": [
    {
     "name": "stdout",
     "output_type": "stream",
     "text": [
      "Bronchiectasis: 4,691 registros (3.05%).\n"
     ]
    }
   ],
   "source": [
    "cond = \"Bronchiectasis\"\n",
    "print(f\"{cond}: {disease_counts[cond]:,} registros ({disease_percentages[cond]:.2f}%).\")"
   ]
  },
  {
   "cell_type": "markdown",
   "id": "de859c43",
   "metadata": {},
   "source": [
    "### **Interlobular septal thickening** (Engrosamiento septal interlobulillar)\n",
    "\n",
    "**¿Qué es?** Engrosamiento de los tabiques interlobulillares del pulmón, visibles en TC como líneas que delimitan los lóbulos secundarios.\n",
    "\n",
    "**Causas:** Edema pulmonar (insuficiencia cardíaca), enfermedades intersticiales (fibrosis pulmonar, neumonía intersticial), linfangitis carcinomatosa, infecciones, hemorragia alveolar y algunas enfermedades ocupacionales.\n",
    "\n",
    "**Significado:** Indica afectación del intersticio pulmonar, pudiendo ser transitorio (como en edema) o crónico (fibrosis, neoplasia).\n",
    "\n",
    "**En CT:** Se visualizan líneas finas, paralelas, que delimitan los lóbulos secundarios; pueden ser lisas (edema), nodulares (linfangitis carcinomatosa) o irregulares (fibrosis).\n",
    "\n",
    "**Relevancia:** Hallazgo clave en la evaluación de enfermedades intersticiales y en el diagnóstico diferencial de disnea y alteraciones respiratorias."
   ]
  },
  {
   "cell_type": "code",
   "execution_count": 51,
   "id": "43b40aff",
   "metadata": {},
   "outputs": [
    {
     "name": "stdout",
     "output_type": "stream",
     "text": [
      "Interlobular septal thickening: 3,688 registros (2.40%).\n"
     ]
    }
   ],
   "source": [
    "cond = \"Interlobular septal thickening\"\n",
    "print(f\"{cond}: {disease_counts[cond]:,} registros ({disease_percentages[cond]:.2f}%).\")"
   ]
  },
  {
   "cell_type": "markdown",
   "id": "27e5eab5",
   "metadata": {},
   "source": [
    "## 🫁🫀 **Otros hallazgos torácicos**"
   ]
  },
  {
   "cell_type": "markdown",
   "id": "9a29f803",
   "metadata": {},
   "source": [
    "### **Pleural effusion** (Derrame pleural)\n",
    "\n",
    "**¿Qué es?** Acumulación anormal de líquido en el espacio pleural, entre la pleura visceral y la pleura parietal.\n",
    "\n",
    "**Causas:** Insuficiencia cardíaca, infecciones (neumonía, tuberculosis, empiema), neoplasias, tromboembolismo pulmonar, enfermedades hepáticas (cirrosis con hidrotórax), renales (síndrome nefrótico), pancreatitis y causas postquirúrgicas o traumáticas.\n",
    "\n",
    "**Significado:** Indica alteración del equilibrio entre producción y reabsorción del líquido pleural; puede reflejar patología local o sistémica.\n",
    "\n",
    "**En CT:** Se observa como colección hipodensa que ocupa el espacio pleural, desplazando el pulmón; puede ser libre, loculado o asociado a engrosamiento pleural.\n",
    "\n",
    "**Relevancia:** Hallazgo frecuente y clínicamente importante; su caracterización (trasudado vs. exudado) y volumen ayudan en el diagnóstico diferencial y en la toma de decisiones terapéuticas (p. ej., drenaje)."
   ]
  },
  {
   "cell_type": "code",
   "execution_count": 52,
   "id": "b003c004",
   "metadata": {},
   "outputs": [
    {
     "name": "stdout",
     "output_type": "stream",
     "text": [
      "Pleural effusion: 5,593 registros (3.64%).\n"
     ]
    }
   ],
   "source": [
    "cond = \"Pleural effusion\"\n",
    "print(f\"{cond}: {disease_counts[cond]:,} registros ({disease_percentages[cond]:.2f}%).\")"
   ]
  },
  {
   "cell_type": "markdown",
   "id": "59ade03c",
   "metadata": {},
   "source": [
    "### **Lymphadenopathy** (Linfadenopatia)\n",
    "\n",
    "**¿Qué es?** Aumento de tamaño o alteración en la morfología de los ganglios linfáticos intratorácicos.\n",
    "\n",
    "**Causas:** Procesos infecciosos (tuberculosis, neumonía, infecciones virales), inflamatorios (sarcoidosis, enfermedades autoinmunes), neoplásicos (linfoma, metástasis de cáncer pulmonar u otros tumores), y reacciones postinflamatorias.\n",
    "\n",
    "**Significado:** Indica compromiso del sistema linfático torácico, pudiendo corresponder a infección activa, inflamación crónica o neoplasia.\n",
    "\n",
    "**En CT:** Se visualizan ganglios aumentados de tamaño (>10 mm en eje corto), hiperdensos o con realce tras contraste; pueden estar calcificados, necróticos o con distribución mediastinal e hiliar.\n",
    "\n",
    "**Relevancia:** Hallazgo importante para diagnóstico diferencial de patologías torácicas; ayuda en estadificación oncológica y orientación terapéutica (ej. necesidad de biopsia o seguimiento).."
   ]
  },
  {
   "cell_type": "code",
   "execution_count": 53,
   "id": "1a6718ac",
   "metadata": {},
   "outputs": [
    {
     "name": "stdout",
     "output_type": "stream",
     "text": [
      "Lymphadenopathy: 11,939 registros (7.76%).\n"
     ]
    }
   ],
   "source": [
    "cond = \"Lymphadenopathy\"\n",
    "print(f\"{cond}: {disease_counts[cond]:,} registros ({disease_percentages[cond]:.2f}%).\")"
   ]
  },
  {
   "cell_type": "markdown",
   "id": "0e001221",
   "metadata": {},
   "source": [
    "### **Hiatal hernia** (Hernia hiatal)\n",
    "\n",
    "**¿Qué es?** Protrusión de parte del estómago a través del hiato esofágico del diafragma hacia el tórax.\n",
    "\n",
    "**Causas:** Debilidad del diafragma, aumento de la presión intraabdominal (obesidad, tos crónica, embarazo), envejecimiento, traumatismos o antecedentes quirúrgicos.\n",
    "\n",
    "**Significado:** Alteración anatómica que favorece reflujo gastroesofágico, esofagitis crónica y complicaciones digestivas o respiratorias.\n",
    "\n",
    "**En CT:** Se observa contenido gástrico (aire, nivel hidroaéreo o pared gástrica) en el mediastino posterior, por encima del diafragma. Puede distinguirse hernia por deslizamiento (más común) o paraesofágica.\n",
    "\n",
    "**Relevancia:** Hallazgo frecuente, con importancia clínica variable; en casos grandes puede causar síntomas respiratorios, anemia por sangrado crónico o complicaciones como vólvulo gástrico.\n"
   ]
  },
  {
   "cell_type": "code",
   "execution_count": 54,
   "id": "ed37b68d",
   "metadata": {},
   "outputs": [
    {
     "name": "stdout",
     "output_type": "stream",
     "text": [
      "Hiatal hernia: 6,618 registros (4.30%).\n"
     ]
    }
   ],
   "source": [
    "cond = \"Hiatal hernia\"\n",
    "print(f\"{cond}: {disease_counts[cond]:,} registros ({disease_percentages[cond]:.2f}%).\")"
   ]
  },
  {
   "cell_type": "markdown",
   "id": "98fbbc7f",
   "metadata": {},
   "source": [
    "# **Selección de datos**"
   ]
  },
  {
   "cell_type": "code",
   "execution_count": null,
   "id": "2549f2df",
   "metadata": {},
   "outputs": [],
   "source": [
    "id_col = df.columns[0]                \n",
    "target = \"Lung nodule\""
   ]
  },
  {
   "cell_type": "markdown",
   "id": "645462ae",
   "metadata": {},
   "source": [
    "### **Selección de 25 registros sanos**"
   ]
  },
  {
   "cell_type": "code",
   "execution_count": null,
   "id": "d0736f7e",
   "metadata": {},
   "outputs": [],
   "source": [
    "healthy_mask = df[disease_cols].sum(axis=1) == 0\n",
    "\n",
    "\n",
    "selected = df[healthy_mask].sample(n=25, random_state=42).copy()\n",
    "\n",
    "\n",
    "display(selected[[id_col] + list(selected.columns[1:6])])\n",
    "selected[[id_col]].to_csv(\"25_sanos.csv\", index=False)\n",
    "print(\"IDs guardados en 25_sanos.csv\")"
   ]
  },
  {
   "cell_type": "markdown",
   "id": "9cc166a0",
   "metadata": {},
   "source": [
    "### **Selección de 25 registros solo con Lung Nodule**"
   ]
  },
  {
   "cell_type": "code",
   "execution_count": null,
   "id": "6dbef6c1",
   "metadata": {},
   "outputs": [],
   "source": [
    "only_target_mask = (df[target] == 1) & (df[disease_cols].sum(axis=1) == 1)\n",
    "\n",
    "selected = df[only_target_mask].sample(n=25, random_state=42).copy()\n",
    "\n",
    "display(selected[[id_col] + list(selected.columns[1:6])]) \n",
    "selected[[id_col]].to_csv(\"25_solo_con_lung_nodule.csv\", index=False)\n",
    "print(\"IDs guardados en 25_solo_con_lung_nodule.csv\")"
   ]
  },
  {
   "cell_type": "markdown",
   "id": "7121349e",
   "metadata": {},
   "source": [
    "### **Selección de 25 registros sin Lung Nodule**"
   ]
  },
  {
   "cell_type": "code",
   "execution_count": null,
   "id": "a926e7ff",
   "metadata": {},
   "outputs": [],
   "source": [
    "mask_no_target = df[target] == 0\n",
    "\n",
    "selected_no = df[mask_no_target].sample(n=25, random_state=42).copy()\n",
    "\n",
    "selected_no[[id_col]].to_csv(\"25_sin_lung_nodule.csv\", index=False)\n",
    "print(f\"IDs guardados en 25_sin_lung_nodule.csv (total {len(selected_no)})\")\n",
    "display(selected_no[[id_col]+[target] + list(selected_no.columns[1:6])])"
   ]
  },
  {
   "cell_type": "markdown",
   "id": "7eca2ef8",
   "metadata": {},
   "source": [
    "### **Selección de 25 registros con Lung Nodule y algo más**"
   ]
  },
  {
   "cell_type": "code",
   "execution_count": null,
   "id": "b1572592",
   "metadata": {},
   "outputs": [],
   "source": [
    "id_col = df.columns[0]                \n",
    "target = \"Lung nodule\"\n",
    "\n",
    "\n",
    "only_target_mask = (df[target] == 1) & (df[disease_cols].sum(axis=1) == 2)\n",
    "\n",
    "\n",
    "\n",
    "selected = df[only_target_mask].sample(n=25, random_state=42).copy()\n",
    "print(f\"Se seleccionaron {25} registros que solo tienen '{target}' (random_state=42).\")\n",
    "\n",
    "\n",
    "print(\"Ejemplo de seleccionados:\")\n",
    "display(selected[[id_col] + list(selected.columns[1:6])]) \n",
    "selected[[id_col]].to_csv(\"25_con_lung_nodule_y_algo_mas.csv\", index=False)\n",
    "print(\"IDs guardados en 25_con_lung_nodule_y_algo_mas.csv\")\n"
   ]
  }
 ],
 "metadata": {
  "kernelspec": {
   "display_name": ".venv (3.13.2)",
   "language": "python",
   "name": "python3"
  },
  "language_info": {
   "codemirror_mode": {
    "name": "ipython",
    "version": 3
   },
   "file_extension": ".py",
   "mimetype": "text/x-python",
   "name": "python",
   "nbconvert_exporter": "python",
   "pygments_lexer": "ipython3",
   "version": "3.13.2"
  }
 },
 "nbformat": 4,
 "nbformat_minor": 5
}
